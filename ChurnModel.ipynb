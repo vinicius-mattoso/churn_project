{
  "nbformat": 4,
  "nbformat_minor": 0,
  "metadata": {
    "colab": {
      "provenance": [],
      "authorship_tag": "ABX9TyNuGBi/GbVtbwV/BxHcuk4x",
      "include_colab_link": true
    },
    "kernelspec": {
      "name": "python3",
      "display_name": "Python 3"
    },
    "language_info": {
      "name": "python"
    }
  },
  "cells": [
    {
      "cell_type": "markdown",
      "metadata": {
        "id": "view-in-github",
        "colab_type": "text"
      },
      "source": [
        "<a href=\"https://colab.research.google.com/github/vinicius-mattoso/churn_project/blob/main/ChurnModel.ipynb\" target=\"_parent\"><img src=\"https://colab.research.google.com/assets/colab-badge.svg\" alt=\"Open In Colab\"/></a>"
      ]
    },
    {
      "cell_type": "markdown",
      "source": [
        "# Trabalho final da Sprint 3 do Curso Ciência de Dados e Analytics da PUC-Rio\n",
        "\n",
        "\n",
        "Aluno: Vinicius Mattoso Reis da Silva\n",
        "\n",
        "Ulitma Atualização : 21/04/2024"
      ],
      "metadata": {
        "id": "NUhZVwSuceEI"
      }
    },
    {
      "cell_type": "markdown",
      "source": [
        "## Explicação da temática do problema\n",
        "\n",
        "Esse trabalho tem por objetivo a contrução de um modelo de classificação do churn do cliente. Churn de cliente é o fato de um cliente da sua base cancela o serviço por algum motivo, fazer um modelo capaz de prever se o cliente vai abandonar a empresa permite uma melhor organização gerencial além de conseguir produzir ações mais certeiras e efetivas para evitar que esse cliente saia da empresa."
      ],
      "metadata": {
        "id": "yEKFSlzJcuXm"
      }
    },
    {
      "cell_type": "markdown",
      "source": [
        "## Etapas do projeto\n",
        "\n",
        "1) Análise Exploratória da base de dados:\n",
        "\n",
        "  Essa análise pode ser encontrada nesse outro notebook\n",
        "\n",
        "https://github.com/vinicius-mattoso/churn_project/blob/main/ChurnEDA.ipynb\n",
        "\n",
        "2) Criação de modelos Base para classificação:\n",
        "\n",
        "  Presente notebook\n",
        "\n",
        "3) Otimização dos hyperparâmetros do modelo que possui uma melhor acertividade\n",
        "\n",
        "  Presente notebook"
      ],
      "metadata": {
        "id": "Z88pzNdpdagQ"
      }
    },
    {
      "cell_type": "markdown",
      "source": [
        "### Carregar as libs necessárias"
      ],
      "metadata": {
        "id": "JJf4jKEqeOHA"
      }
    },
    {
      "cell_type": "code",
      "execution_count": 22,
      "metadata": {
        "id": "tNiKX-jGY7er"
      },
      "outputs": [],
      "source": [
        "import warnings\n",
        "warnings.filterwarnings(\"ignore\")\n",
        "\n",
        "import pandas as pd\n",
        "import numpy as np\n",
        "import random\n",
        "\n",
        "import seaborn as sns\n",
        "import matplotlib.pyplot as plt\n",
        "\n",
        "from sklearn.preprocessing import LabelEncoder\n",
        "from sklearn.model_selection import train_test_split\n",
        "from sklearn.model_selection import KFold # para preparar os folds da validação cruzada\n",
        "from sklearn.model_selection import cross_val_score # para executar a validação cruzada\n",
        "\n",
        "from sklearn.neighbors import KNeighborsClassifier # algoritmo KNN\n",
        "from sklearn.tree import DecisionTreeClassifier # algoritmo Árvore de Classificação\n",
        "from sklearn.naive_bayes import GaussianNB # algoritmo Naive Bayes\n",
        "from sklearn.svm import SVC # algoritmo SVM\n",
        "from sklearn.dummy import DummyClassifier # algoritmo DummyClassifier\n",
        "from sklearn.linear_model import LogisticRegression\n",
        "from sklearn.ensemble import RandomForestClassifier\n",
        "from sklearn.ensemble import GradientBoostingClassifier\n",
        "from xgboost import XGBClassifier\n",
        "\n",
        "from sklearn.metrics import classification_report\n",
        "from sklearn.metrics import confusion_matrix\n",
        "from sklearn.metrics import accuracy_score # para a exibição da acurácia do modelo\n",
        "from sklearn.metrics import f1_score\n",
        "\n",
        "\n",
        "\n",
        "\n",
        "seed = 42\n",
        "\n",
        "def set_random_seed(seed=42):\n",
        "  np.random.seed(seed)\n",
        "  random.seed(seed)\n",
        "set_random_seed(seed=seed)"
      ]
    },
    {
      "cell_type": "markdown",
      "source": [
        "## Criação de uma classe para fazer todo o processamento inical dos dados\n",
        "\n",
        "\n",
        "Essa classe será montada de acordo com as informações que foram obtidas no notebook de análise exploratória\n",
        "\n"
      ],
      "metadata": {
        "id": "wPdpofKJZH1f"
      }
    },
    {
      "cell_type": "code",
      "source": [
        "class ChurnDataProcess ():\n",
        "  def __init__(self,original_df):\n",
        "    self.original_df = original_df\n",
        "    self.modified_df = original_df.copy()\n",
        "\n",
        "  def convert_total_charge_to_float(self):\n",
        "    self.modified_df['TotalCharges'] = pd.to_numeric(self.modified_df['TotalCharges'], errors='coerce')\n",
        "\n",
        "  def fill_nan_with_mean(self):\n",
        "    self.modified_df['TotalCharges'].fillna((self.modified_df['TotalCharges'].mean()), inplace=True)\n",
        "\n",
        "  def remove_id_column(self):\n",
        "    self.modified_df.drop(columns='customerID', inplace=True)\n",
        "\n",
        "  def use_only_select_columns(self):\n",
        "    colunas_interessantes = ['SeniorCitizen', 'Partner', 'Dependents', 'tenure', 'OnlineSecurity', 'OnlineBackup',\n",
        "                                'DeviceProtection', 'TechSupport', 'Contract', 'PaperlessBilling', 'PaymentMethod',\n",
        "                                'MonthlyCharges', 'TotalCharges', 'Churn']\n",
        "    self.modified_df = self.modified_df[colunas_interessantes]\n",
        "\n",
        "  def encoding_data(self):\n",
        "    le = LabelEncoder()\n",
        "    self.modified_df_encoding = self.modified_df.copy()\n",
        "    for column in self.modified_df_encoding.columns:\n",
        "        if self.modified_df_encoding[column].dtype == 'object':\n",
        "            self.modified_df_encoding[column] = le.fit_transform(self.modified_df_encoding[column])\n",
        "\n",
        "  def return_data_preprocessed(self):\n",
        "\n",
        "    return self.modified_df_encoding\n"
      ],
      "metadata": {
        "id": "TxPGMOy0ZSEb"
      },
      "execution_count": 2,
      "outputs": []
    },
    {
      "cell_type": "markdown",
      "source": [
        "## Início da criação dos modelos"
      ],
      "metadata": {
        "id": "GNZfqnXseRFH"
      }
    },
    {
      "cell_type": "code",
      "source": [
        "df = pd.read_csv('https://raw.githubusercontent.com/vinicius-mattoso/churn_project/main/data/WA_Fn-UseC_-Telco-Customer-Churn.csv')\n",
        "df.head()"
      ],
      "metadata": {
        "colab": {
          "base_uri": "https://localhost:8080/",
          "height": 342
        },
        "id": "6cenQAlUeTil",
        "outputId": "1770ac3e-3d3e-45a9-e3c4-b60d114c85d7"
      },
      "execution_count": 3,
      "outputs": [
        {
          "output_type": "execute_result",
          "data": {
            "text/plain": [
              "   customerID  gender  SeniorCitizen Partner Dependents  tenure PhoneService  \\\n",
              "0  7590-VHVEG  Female              0     Yes         No       1           No   \n",
              "1  5575-GNVDE    Male              0      No         No      34          Yes   \n",
              "2  3668-QPYBK    Male              0      No         No       2          Yes   \n",
              "3  7795-CFOCW    Male              0      No         No      45           No   \n",
              "4  9237-HQITU  Female              0      No         No       2          Yes   \n",
              "\n",
              "      MultipleLines InternetService OnlineSecurity  ... DeviceProtection  \\\n",
              "0  No phone service             DSL             No  ...               No   \n",
              "1                No             DSL            Yes  ...              Yes   \n",
              "2                No             DSL            Yes  ...               No   \n",
              "3  No phone service             DSL            Yes  ...              Yes   \n",
              "4                No     Fiber optic             No  ...               No   \n",
              "\n",
              "  TechSupport StreamingTV StreamingMovies        Contract PaperlessBilling  \\\n",
              "0          No          No              No  Month-to-month              Yes   \n",
              "1          No          No              No        One year               No   \n",
              "2          No          No              No  Month-to-month              Yes   \n",
              "3         Yes          No              No        One year               No   \n",
              "4          No          No              No  Month-to-month              Yes   \n",
              "\n",
              "               PaymentMethod MonthlyCharges  TotalCharges Churn  \n",
              "0           Electronic check          29.85         29.85    No  \n",
              "1               Mailed check          56.95        1889.5    No  \n",
              "2               Mailed check          53.85        108.15   Yes  \n",
              "3  Bank transfer (automatic)          42.30       1840.75    No  \n",
              "4           Electronic check          70.70        151.65   Yes  \n",
              "\n",
              "[5 rows x 21 columns]"
            ],
            "text/html": [
              "\n",
              "  <div id=\"df-2e2b42ae-af3e-4ea1-8ba7-118ecf717ab1\" class=\"colab-df-container\">\n",
              "    <div>\n",
              "<style scoped>\n",
              "    .dataframe tbody tr th:only-of-type {\n",
              "        vertical-align: middle;\n",
              "    }\n",
              "\n",
              "    .dataframe tbody tr th {\n",
              "        vertical-align: top;\n",
              "    }\n",
              "\n",
              "    .dataframe thead th {\n",
              "        text-align: right;\n",
              "    }\n",
              "</style>\n",
              "<table border=\"1\" class=\"dataframe\">\n",
              "  <thead>\n",
              "    <tr style=\"text-align: right;\">\n",
              "      <th></th>\n",
              "      <th>customerID</th>\n",
              "      <th>gender</th>\n",
              "      <th>SeniorCitizen</th>\n",
              "      <th>Partner</th>\n",
              "      <th>Dependents</th>\n",
              "      <th>tenure</th>\n",
              "      <th>PhoneService</th>\n",
              "      <th>MultipleLines</th>\n",
              "      <th>InternetService</th>\n",
              "      <th>OnlineSecurity</th>\n",
              "      <th>...</th>\n",
              "      <th>DeviceProtection</th>\n",
              "      <th>TechSupport</th>\n",
              "      <th>StreamingTV</th>\n",
              "      <th>StreamingMovies</th>\n",
              "      <th>Contract</th>\n",
              "      <th>PaperlessBilling</th>\n",
              "      <th>PaymentMethod</th>\n",
              "      <th>MonthlyCharges</th>\n",
              "      <th>TotalCharges</th>\n",
              "      <th>Churn</th>\n",
              "    </tr>\n",
              "  </thead>\n",
              "  <tbody>\n",
              "    <tr>\n",
              "      <th>0</th>\n",
              "      <td>7590-VHVEG</td>\n",
              "      <td>Female</td>\n",
              "      <td>0</td>\n",
              "      <td>Yes</td>\n",
              "      <td>No</td>\n",
              "      <td>1</td>\n",
              "      <td>No</td>\n",
              "      <td>No phone service</td>\n",
              "      <td>DSL</td>\n",
              "      <td>No</td>\n",
              "      <td>...</td>\n",
              "      <td>No</td>\n",
              "      <td>No</td>\n",
              "      <td>No</td>\n",
              "      <td>No</td>\n",
              "      <td>Month-to-month</td>\n",
              "      <td>Yes</td>\n",
              "      <td>Electronic check</td>\n",
              "      <td>29.85</td>\n",
              "      <td>29.85</td>\n",
              "      <td>No</td>\n",
              "    </tr>\n",
              "    <tr>\n",
              "      <th>1</th>\n",
              "      <td>5575-GNVDE</td>\n",
              "      <td>Male</td>\n",
              "      <td>0</td>\n",
              "      <td>No</td>\n",
              "      <td>No</td>\n",
              "      <td>34</td>\n",
              "      <td>Yes</td>\n",
              "      <td>No</td>\n",
              "      <td>DSL</td>\n",
              "      <td>Yes</td>\n",
              "      <td>...</td>\n",
              "      <td>Yes</td>\n",
              "      <td>No</td>\n",
              "      <td>No</td>\n",
              "      <td>No</td>\n",
              "      <td>One year</td>\n",
              "      <td>No</td>\n",
              "      <td>Mailed check</td>\n",
              "      <td>56.95</td>\n",
              "      <td>1889.5</td>\n",
              "      <td>No</td>\n",
              "    </tr>\n",
              "    <tr>\n",
              "      <th>2</th>\n",
              "      <td>3668-QPYBK</td>\n",
              "      <td>Male</td>\n",
              "      <td>0</td>\n",
              "      <td>No</td>\n",
              "      <td>No</td>\n",
              "      <td>2</td>\n",
              "      <td>Yes</td>\n",
              "      <td>No</td>\n",
              "      <td>DSL</td>\n",
              "      <td>Yes</td>\n",
              "      <td>...</td>\n",
              "      <td>No</td>\n",
              "      <td>No</td>\n",
              "      <td>No</td>\n",
              "      <td>No</td>\n",
              "      <td>Month-to-month</td>\n",
              "      <td>Yes</td>\n",
              "      <td>Mailed check</td>\n",
              "      <td>53.85</td>\n",
              "      <td>108.15</td>\n",
              "      <td>Yes</td>\n",
              "    </tr>\n",
              "    <tr>\n",
              "      <th>3</th>\n",
              "      <td>7795-CFOCW</td>\n",
              "      <td>Male</td>\n",
              "      <td>0</td>\n",
              "      <td>No</td>\n",
              "      <td>No</td>\n",
              "      <td>45</td>\n",
              "      <td>No</td>\n",
              "      <td>No phone service</td>\n",
              "      <td>DSL</td>\n",
              "      <td>Yes</td>\n",
              "      <td>...</td>\n",
              "      <td>Yes</td>\n",
              "      <td>Yes</td>\n",
              "      <td>No</td>\n",
              "      <td>No</td>\n",
              "      <td>One year</td>\n",
              "      <td>No</td>\n",
              "      <td>Bank transfer (automatic)</td>\n",
              "      <td>42.30</td>\n",
              "      <td>1840.75</td>\n",
              "      <td>No</td>\n",
              "    </tr>\n",
              "    <tr>\n",
              "      <th>4</th>\n",
              "      <td>9237-HQITU</td>\n",
              "      <td>Female</td>\n",
              "      <td>0</td>\n",
              "      <td>No</td>\n",
              "      <td>No</td>\n",
              "      <td>2</td>\n",
              "      <td>Yes</td>\n",
              "      <td>No</td>\n",
              "      <td>Fiber optic</td>\n",
              "      <td>No</td>\n",
              "      <td>...</td>\n",
              "      <td>No</td>\n",
              "      <td>No</td>\n",
              "      <td>No</td>\n",
              "      <td>No</td>\n",
              "      <td>Month-to-month</td>\n",
              "      <td>Yes</td>\n",
              "      <td>Electronic check</td>\n",
              "      <td>70.70</td>\n",
              "      <td>151.65</td>\n",
              "      <td>Yes</td>\n",
              "    </tr>\n",
              "  </tbody>\n",
              "</table>\n",
              "<p>5 rows × 21 columns</p>\n",
              "</div>\n",
              "    <div class=\"colab-df-buttons\">\n",
              "\n",
              "  <div class=\"colab-df-container\">\n",
              "    <button class=\"colab-df-convert\" onclick=\"convertToInteractive('df-2e2b42ae-af3e-4ea1-8ba7-118ecf717ab1')\"\n",
              "            title=\"Convert this dataframe to an interactive table.\"\n",
              "            style=\"display:none;\">\n",
              "\n",
              "  <svg xmlns=\"http://www.w3.org/2000/svg\" height=\"24px\" viewBox=\"0 -960 960 960\">\n",
              "    <path d=\"M120-120v-720h720v720H120Zm60-500h600v-160H180v160Zm220 220h160v-160H400v160Zm0 220h160v-160H400v160ZM180-400h160v-160H180v160Zm440 0h160v-160H620v160ZM180-180h160v-160H180v160Zm440 0h160v-160H620v160Z\"/>\n",
              "  </svg>\n",
              "    </button>\n",
              "\n",
              "  <style>\n",
              "    .colab-df-container {\n",
              "      display:flex;\n",
              "      gap: 12px;\n",
              "    }\n",
              "\n",
              "    .colab-df-convert {\n",
              "      background-color: #E8F0FE;\n",
              "      border: none;\n",
              "      border-radius: 50%;\n",
              "      cursor: pointer;\n",
              "      display: none;\n",
              "      fill: #1967D2;\n",
              "      height: 32px;\n",
              "      padding: 0 0 0 0;\n",
              "      width: 32px;\n",
              "    }\n",
              "\n",
              "    .colab-df-convert:hover {\n",
              "      background-color: #E2EBFA;\n",
              "      box-shadow: 0px 1px 2px rgba(60, 64, 67, 0.3), 0px 1px 3px 1px rgba(60, 64, 67, 0.15);\n",
              "      fill: #174EA6;\n",
              "    }\n",
              "\n",
              "    .colab-df-buttons div {\n",
              "      margin-bottom: 4px;\n",
              "    }\n",
              "\n",
              "    [theme=dark] .colab-df-convert {\n",
              "      background-color: #3B4455;\n",
              "      fill: #D2E3FC;\n",
              "    }\n",
              "\n",
              "    [theme=dark] .colab-df-convert:hover {\n",
              "      background-color: #434B5C;\n",
              "      box-shadow: 0px 1px 3px 1px rgba(0, 0, 0, 0.15);\n",
              "      filter: drop-shadow(0px 1px 2px rgba(0, 0, 0, 0.3));\n",
              "      fill: #FFFFFF;\n",
              "    }\n",
              "  </style>\n",
              "\n",
              "    <script>\n",
              "      const buttonEl =\n",
              "        document.querySelector('#df-2e2b42ae-af3e-4ea1-8ba7-118ecf717ab1 button.colab-df-convert');\n",
              "      buttonEl.style.display =\n",
              "        google.colab.kernel.accessAllowed ? 'block' : 'none';\n",
              "\n",
              "      async function convertToInteractive(key) {\n",
              "        const element = document.querySelector('#df-2e2b42ae-af3e-4ea1-8ba7-118ecf717ab1');\n",
              "        const dataTable =\n",
              "          await google.colab.kernel.invokeFunction('convertToInteractive',\n",
              "                                                    [key], {});\n",
              "        if (!dataTable) return;\n",
              "\n",
              "        const docLinkHtml = 'Like what you see? Visit the ' +\n",
              "          '<a target=\"_blank\" href=https://colab.research.google.com/notebooks/data_table.ipynb>data table notebook</a>'\n",
              "          + ' to learn more about interactive tables.';\n",
              "        element.innerHTML = '';\n",
              "        dataTable['output_type'] = 'display_data';\n",
              "        await google.colab.output.renderOutput(dataTable, element);\n",
              "        const docLink = document.createElement('div');\n",
              "        docLink.innerHTML = docLinkHtml;\n",
              "        element.appendChild(docLink);\n",
              "      }\n",
              "    </script>\n",
              "  </div>\n",
              "\n",
              "\n",
              "<div id=\"df-c1fb0672-a11d-4f22-aec6-fb28e2197bac\">\n",
              "  <button class=\"colab-df-quickchart\" onclick=\"quickchart('df-c1fb0672-a11d-4f22-aec6-fb28e2197bac')\"\n",
              "            title=\"Suggest charts\"\n",
              "            style=\"display:none;\">\n",
              "\n",
              "<svg xmlns=\"http://www.w3.org/2000/svg\" height=\"24px\"viewBox=\"0 0 24 24\"\n",
              "     width=\"24px\">\n",
              "    <g>\n",
              "        <path d=\"M19 3H5c-1.1 0-2 .9-2 2v14c0 1.1.9 2 2 2h14c1.1 0 2-.9 2-2V5c0-1.1-.9-2-2-2zM9 17H7v-7h2v7zm4 0h-2V7h2v10zm4 0h-2v-4h2v4z\"/>\n",
              "    </g>\n",
              "</svg>\n",
              "  </button>\n",
              "\n",
              "<style>\n",
              "  .colab-df-quickchart {\n",
              "      --bg-color: #E8F0FE;\n",
              "      --fill-color: #1967D2;\n",
              "      --hover-bg-color: #E2EBFA;\n",
              "      --hover-fill-color: #174EA6;\n",
              "      --disabled-fill-color: #AAA;\n",
              "      --disabled-bg-color: #DDD;\n",
              "  }\n",
              "\n",
              "  [theme=dark] .colab-df-quickchart {\n",
              "      --bg-color: #3B4455;\n",
              "      --fill-color: #D2E3FC;\n",
              "      --hover-bg-color: #434B5C;\n",
              "      --hover-fill-color: #FFFFFF;\n",
              "      --disabled-bg-color: #3B4455;\n",
              "      --disabled-fill-color: #666;\n",
              "  }\n",
              "\n",
              "  .colab-df-quickchart {\n",
              "    background-color: var(--bg-color);\n",
              "    border: none;\n",
              "    border-radius: 50%;\n",
              "    cursor: pointer;\n",
              "    display: none;\n",
              "    fill: var(--fill-color);\n",
              "    height: 32px;\n",
              "    padding: 0;\n",
              "    width: 32px;\n",
              "  }\n",
              "\n",
              "  .colab-df-quickchart:hover {\n",
              "    background-color: var(--hover-bg-color);\n",
              "    box-shadow: 0 1px 2px rgba(60, 64, 67, 0.3), 0 1px 3px 1px rgba(60, 64, 67, 0.15);\n",
              "    fill: var(--button-hover-fill-color);\n",
              "  }\n",
              "\n",
              "  .colab-df-quickchart-complete:disabled,\n",
              "  .colab-df-quickchart-complete:disabled:hover {\n",
              "    background-color: var(--disabled-bg-color);\n",
              "    fill: var(--disabled-fill-color);\n",
              "    box-shadow: none;\n",
              "  }\n",
              "\n",
              "  .colab-df-spinner {\n",
              "    border: 2px solid var(--fill-color);\n",
              "    border-color: transparent;\n",
              "    border-bottom-color: var(--fill-color);\n",
              "    animation:\n",
              "      spin 1s steps(1) infinite;\n",
              "  }\n",
              "\n",
              "  @keyframes spin {\n",
              "    0% {\n",
              "      border-color: transparent;\n",
              "      border-bottom-color: var(--fill-color);\n",
              "      border-left-color: var(--fill-color);\n",
              "    }\n",
              "    20% {\n",
              "      border-color: transparent;\n",
              "      border-left-color: var(--fill-color);\n",
              "      border-top-color: var(--fill-color);\n",
              "    }\n",
              "    30% {\n",
              "      border-color: transparent;\n",
              "      border-left-color: var(--fill-color);\n",
              "      border-top-color: var(--fill-color);\n",
              "      border-right-color: var(--fill-color);\n",
              "    }\n",
              "    40% {\n",
              "      border-color: transparent;\n",
              "      border-right-color: var(--fill-color);\n",
              "      border-top-color: var(--fill-color);\n",
              "    }\n",
              "    60% {\n",
              "      border-color: transparent;\n",
              "      border-right-color: var(--fill-color);\n",
              "    }\n",
              "    80% {\n",
              "      border-color: transparent;\n",
              "      border-right-color: var(--fill-color);\n",
              "      border-bottom-color: var(--fill-color);\n",
              "    }\n",
              "    90% {\n",
              "      border-color: transparent;\n",
              "      border-bottom-color: var(--fill-color);\n",
              "    }\n",
              "  }\n",
              "</style>\n",
              "\n",
              "  <script>\n",
              "    async function quickchart(key) {\n",
              "      const quickchartButtonEl =\n",
              "        document.querySelector('#' + key + ' button');\n",
              "      quickchartButtonEl.disabled = true;  // To prevent multiple clicks.\n",
              "      quickchartButtonEl.classList.add('colab-df-spinner');\n",
              "      try {\n",
              "        const charts = await google.colab.kernel.invokeFunction(\n",
              "            'suggestCharts', [key], {});\n",
              "      } catch (error) {\n",
              "        console.error('Error during call to suggestCharts:', error);\n",
              "      }\n",
              "      quickchartButtonEl.classList.remove('colab-df-spinner');\n",
              "      quickchartButtonEl.classList.add('colab-df-quickchart-complete');\n",
              "    }\n",
              "    (() => {\n",
              "      let quickchartButtonEl =\n",
              "        document.querySelector('#df-c1fb0672-a11d-4f22-aec6-fb28e2197bac button');\n",
              "      quickchartButtonEl.style.display =\n",
              "        google.colab.kernel.accessAllowed ? 'block' : 'none';\n",
              "    })();\n",
              "  </script>\n",
              "</div>\n",
              "    </div>\n",
              "  </div>\n"
            ],
            "application/vnd.google.colaboratory.intrinsic+json": {
              "type": "dataframe",
              "variable_name": "df"
            }
          },
          "metadata": {},
          "execution_count": 3
        }
      ]
    },
    {
      "cell_type": "markdown",
      "source": [
        "**Utilização da classe de pre processamento**"
      ],
      "metadata": {
        "id": "hKX7ssD_eikH"
      }
    },
    {
      "cell_type": "code",
      "source": [
        "data = ChurnDataProcess(df)"
      ],
      "metadata": {
        "id": "7xupS2-2eXGY"
      },
      "execution_count": 4,
      "outputs": []
    },
    {
      "cell_type": "markdown",
      "source": [
        "**Etapas para obter o dataframe final para ser utilizado pelo modelo**"
      ],
      "metadata": {
        "id": "Akq2QmwEeqwP"
      }
    },
    {
      "cell_type": "code",
      "source": [
        "# converter o tipo de dado\n",
        "data.convert_total_charge_to_float()\n",
        "# utilizar apenas as colunas selecionadas\n",
        "data.use_only_select_columns()\n",
        "data.fill_nan_with_mean()\n",
        "# Criação de um dataset utilizando o one hot encoder\n",
        "data.encoding_data()\n",
        "# Retonar o dataset pronto para ser consumido\n",
        "dataframe_prepared = data.return_data_preprocessed()\n",
        "#Print data\n",
        "dataframe_prepared.head()"
      ],
      "metadata": {
        "colab": {
          "base_uri": "https://localhost:8080/",
          "height": 226
        },
        "id": "az-se2Plee5H",
        "outputId": "1bd85c69-4f2f-4f7f-d3b2-52a53da67e70"
      },
      "execution_count": 5,
      "outputs": [
        {
          "output_type": "execute_result",
          "data": {
            "text/plain": [
              "   SeniorCitizen  Partner  Dependents  tenure  OnlineSecurity  OnlineBackup  \\\n",
              "0              0        1           0       1               0             2   \n",
              "1              0        0           0      34               2             0   \n",
              "2              0        0           0       2               2             2   \n",
              "3              0        0           0      45               2             0   \n",
              "4              0        0           0       2               0             0   \n",
              "\n",
              "   DeviceProtection  TechSupport  Contract  PaperlessBilling  PaymentMethod  \\\n",
              "0                 0            0         0                 1              2   \n",
              "1                 2            0         1                 0              3   \n",
              "2                 0            0         0                 1              3   \n",
              "3                 2            2         1                 0              0   \n",
              "4                 0            0         0                 1              2   \n",
              "\n",
              "   MonthlyCharges  TotalCharges  Churn  \n",
              "0           29.85         29.85      0  \n",
              "1           56.95       1889.50      0  \n",
              "2           53.85        108.15      1  \n",
              "3           42.30       1840.75      0  \n",
              "4           70.70        151.65      1  "
            ],
            "text/html": [
              "\n",
              "  <div id=\"df-7fbc994f-c57f-42c0-88f1-306bd542b22d\" class=\"colab-df-container\">\n",
              "    <div>\n",
              "<style scoped>\n",
              "    .dataframe tbody tr th:only-of-type {\n",
              "        vertical-align: middle;\n",
              "    }\n",
              "\n",
              "    .dataframe tbody tr th {\n",
              "        vertical-align: top;\n",
              "    }\n",
              "\n",
              "    .dataframe thead th {\n",
              "        text-align: right;\n",
              "    }\n",
              "</style>\n",
              "<table border=\"1\" class=\"dataframe\">\n",
              "  <thead>\n",
              "    <tr style=\"text-align: right;\">\n",
              "      <th></th>\n",
              "      <th>SeniorCitizen</th>\n",
              "      <th>Partner</th>\n",
              "      <th>Dependents</th>\n",
              "      <th>tenure</th>\n",
              "      <th>OnlineSecurity</th>\n",
              "      <th>OnlineBackup</th>\n",
              "      <th>DeviceProtection</th>\n",
              "      <th>TechSupport</th>\n",
              "      <th>Contract</th>\n",
              "      <th>PaperlessBilling</th>\n",
              "      <th>PaymentMethod</th>\n",
              "      <th>MonthlyCharges</th>\n",
              "      <th>TotalCharges</th>\n",
              "      <th>Churn</th>\n",
              "    </tr>\n",
              "  </thead>\n",
              "  <tbody>\n",
              "    <tr>\n",
              "      <th>0</th>\n",
              "      <td>0</td>\n",
              "      <td>1</td>\n",
              "      <td>0</td>\n",
              "      <td>1</td>\n",
              "      <td>0</td>\n",
              "      <td>2</td>\n",
              "      <td>0</td>\n",
              "      <td>0</td>\n",
              "      <td>0</td>\n",
              "      <td>1</td>\n",
              "      <td>2</td>\n",
              "      <td>29.85</td>\n",
              "      <td>29.85</td>\n",
              "      <td>0</td>\n",
              "    </tr>\n",
              "    <tr>\n",
              "      <th>1</th>\n",
              "      <td>0</td>\n",
              "      <td>0</td>\n",
              "      <td>0</td>\n",
              "      <td>34</td>\n",
              "      <td>2</td>\n",
              "      <td>0</td>\n",
              "      <td>2</td>\n",
              "      <td>0</td>\n",
              "      <td>1</td>\n",
              "      <td>0</td>\n",
              "      <td>3</td>\n",
              "      <td>56.95</td>\n",
              "      <td>1889.50</td>\n",
              "      <td>0</td>\n",
              "    </tr>\n",
              "    <tr>\n",
              "      <th>2</th>\n",
              "      <td>0</td>\n",
              "      <td>0</td>\n",
              "      <td>0</td>\n",
              "      <td>2</td>\n",
              "      <td>2</td>\n",
              "      <td>2</td>\n",
              "      <td>0</td>\n",
              "      <td>0</td>\n",
              "      <td>0</td>\n",
              "      <td>1</td>\n",
              "      <td>3</td>\n",
              "      <td>53.85</td>\n",
              "      <td>108.15</td>\n",
              "      <td>1</td>\n",
              "    </tr>\n",
              "    <tr>\n",
              "      <th>3</th>\n",
              "      <td>0</td>\n",
              "      <td>0</td>\n",
              "      <td>0</td>\n",
              "      <td>45</td>\n",
              "      <td>2</td>\n",
              "      <td>0</td>\n",
              "      <td>2</td>\n",
              "      <td>2</td>\n",
              "      <td>1</td>\n",
              "      <td>0</td>\n",
              "      <td>0</td>\n",
              "      <td>42.30</td>\n",
              "      <td>1840.75</td>\n",
              "      <td>0</td>\n",
              "    </tr>\n",
              "    <tr>\n",
              "      <th>4</th>\n",
              "      <td>0</td>\n",
              "      <td>0</td>\n",
              "      <td>0</td>\n",
              "      <td>2</td>\n",
              "      <td>0</td>\n",
              "      <td>0</td>\n",
              "      <td>0</td>\n",
              "      <td>0</td>\n",
              "      <td>0</td>\n",
              "      <td>1</td>\n",
              "      <td>2</td>\n",
              "      <td>70.70</td>\n",
              "      <td>151.65</td>\n",
              "      <td>1</td>\n",
              "    </tr>\n",
              "  </tbody>\n",
              "</table>\n",
              "</div>\n",
              "    <div class=\"colab-df-buttons\">\n",
              "\n",
              "  <div class=\"colab-df-container\">\n",
              "    <button class=\"colab-df-convert\" onclick=\"convertToInteractive('df-7fbc994f-c57f-42c0-88f1-306bd542b22d')\"\n",
              "            title=\"Convert this dataframe to an interactive table.\"\n",
              "            style=\"display:none;\">\n",
              "\n",
              "  <svg xmlns=\"http://www.w3.org/2000/svg\" height=\"24px\" viewBox=\"0 -960 960 960\">\n",
              "    <path d=\"M120-120v-720h720v720H120Zm60-500h600v-160H180v160Zm220 220h160v-160H400v160Zm0 220h160v-160H400v160ZM180-400h160v-160H180v160Zm440 0h160v-160H620v160ZM180-180h160v-160H180v160Zm440 0h160v-160H620v160Z\"/>\n",
              "  </svg>\n",
              "    </button>\n",
              "\n",
              "  <style>\n",
              "    .colab-df-container {\n",
              "      display:flex;\n",
              "      gap: 12px;\n",
              "    }\n",
              "\n",
              "    .colab-df-convert {\n",
              "      background-color: #E8F0FE;\n",
              "      border: none;\n",
              "      border-radius: 50%;\n",
              "      cursor: pointer;\n",
              "      display: none;\n",
              "      fill: #1967D2;\n",
              "      height: 32px;\n",
              "      padding: 0 0 0 0;\n",
              "      width: 32px;\n",
              "    }\n",
              "\n",
              "    .colab-df-convert:hover {\n",
              "      background-color: #E2EBFA;\n",
              "      box-shadow: 0px 1px 2px rgba(60, 64, 67, 0.3), 0px 1px 3px 1px rgba(60, 64, 67, 0.15);\n",
              "      fill: #174EA6;\n",
              "    }\n",
              "\n",
              "    .colab-df-buttons div {\n",
              "      margin-bottom: 4px;\n",
              "    }\n",
              "\n",
              "    [theme=dark] .colab-df-convert {\n",
              "      background-color: #3B4455;\n",
              "      fill: #D2E3FC;\n",
              "    }\n",
              "\n",
              "    [theme=dark] .colab-df-convert:hover {\n",
              "      background-color: #434B5C;\n",
              "      box-shadow: 0px 1px 3px 1px rgba(0, 0, 0, 0.15);\n",
              "      filter: drop-shadow(0px 1px 2px rgba(0, 0, 0, 0.3));\n",
              "      fill: #FFFFFF;\n",
              "    }\n",
              "  </style>\n",
              "\n",
              "    <script>\n",
              "      const buttonEl =\n",
              "        document.querySelector('#df-7fbc994f-c57f-42c0-88f1-306bd542b22d button.colab-df-convert');\n",
              "      buttonEl.style.display =\n",
              "        google.colab.kernel.accessAllowed ? 'block' : 'none';\n",
              "\n",
              "      async function convertToInteractive(key) {\n",
              "        const element = document.querySelector('#df-7fbc994f-c57f-42c0-88f1-306bd542b22d');\n",
              "        const dataTable =\n",
              "          await google.colab.kernel.invokeFunction('convertToInteractive',\n",
              "                                                    [key], {});\n",
              "        if (!dataTable) return;\n",
              "\n",
              "        const docLinkHtml = 'Like what you see? Visit the ' +\n",
              "          '<a target=\"_blank\" href=https://colab.research.google.com/notebooks/data_table.ipynb>data table notebook</a>'\n",
              "          + ' to learn more about interactive tables.';\n",
              "        element.innerHTML = '';\n",
              "        dataTable['output_type'] = 'display_data';\n",
              "        await google.colab.output.renderOutput(dataTable, element);\n",
              "        const docLink = document.createElement('div');\n",
              "        docLink.innerHTML = docLinkHtml;\n",
              "        element.appendChild(docLink);\n",
              "      }\n",
              "    </script>\n",
              "  </div>\n",
              "\n",
              "\n",
              "<div id=\"df-fc602e6d-d88c-449d-a332-3bce66e3c766\">\n",
              "  <button class=\"colab-df-quickchart\" onclick=\"quickchart('df-fc602e6d-d88c-449d-a332-3bce66e3c766')\"\n",
              "            title=\"Suggest charts\"\n",
              "            style=\"display:none;\">\n",
              "\n",
              "<svg xmlns=\"http://www.w3.org/2000/svg\" height=\"24px\"viewBox=\"0 0 24 24\"\n",
              "     width=\"24px\">\n",
              "    <g>\n",
              "        <path d=\"M19 3H5c-1.1 0-2 .9-2 2v14c0 1.1.9 2 2 2h14c1.1 0 2-.9 2-2V5c0-1.1-.9-2-2-2zM9 17H7v-7h2v7zm4 0h-2V7h2v10zm4 0h-2v-4h2v4z\"/>\n",
              "    </g>\n",
              "</svg>\n",
              "  </button>\n",
              "\n",
              "<style>\n",
              "  .colab-df-quickchart {\n",
              "      --bg-color: #E8F0FE;\n",
              "      --fill-color: #1967D2;\n",
              "      --hover-bg-color: #E2EBFA;\n",
              "      --hover-fill-color: #174EA6;\n",
              "      --disabled-fill-color: #AAA;\n",
              "      --disabled-bg-color: #DDD;\n",
              "  }\n",
              "\n",
              "  [theme=dark] .colab-df-quickchart {\n",
              "      --bg-color: #3B4455;\n",
              "      --fill-color: #D2E3FC;\n",
              "      --hover-bg-color: #434B5C;\n",
              "      --hover-fill-color: #FFFFFF;\n",
              "      --disabled-bg-color: #3B4455;\n",
              "      --disabled-fill-color: #666;\n",
              "  }\n",
              "\n",
              "  .colab-df-quickchart {\n",
              "    background-color: var(--bg-color);\n",
              "    border: none;\n",
              "    border-radius: 50%;\n",
              "    cursor: pointer;\n",
              "    display: none;\n",
              "    fill: var(--fill-color);\n",
              "    height: 32px;\n",
              "    padding: 0;\n",
              "    width: 32px;\n",
              "  }\n",
              "\n",
              "  .colab-df-quickchart:hover {\n",
              "    background-color: var(--hover-bg-color);\n",
              "    box-shadow: 0 1px 2px rgba(60, 64, 67, 0.3), 0 1px 3px 1px rgba(60, 64, 67, 0.15);\n",
              "    fill: var(--button-hover-fill-color);\n",
              "  }\n",
              "\n",
              "  .colab-df-quickchart-complete:disabled,\n",
              "  .colab-df-quickchart-complete:disabled:hover {\n",
              "    background-color: var(--disabled-bg-color);\n",
              "    fill: var(--disabled-fill-color);\n",
              "    box-shadow: none;\n",
              "  }\n",
              "\n",
              "  .colab-df-spinner {\n",
              "    border: 2px solid var(--fill-color);\n",
              "    border-color: transparent;\n",
              "    border-bottom-color: var(--fill-color);\n",
              "    animation:\n",
              "      spin 1s steps(1) infinite;\n",
              "  }\n",
              "\n",
              "  @keyframes spin {\n",
              "    0% {\n",
              "      border-color: transparent;\n",
              "      border-bottom-color: var(--fill-color);\n",
              "      border-left-color: var(--fill-color);\n",
              "    }\n",
              "    20% {\n",
              "      border-color: transparent;\n",
              "      border-left-color: var(--fill-color);\n",
              "      border-top-color: var(--fill-color);\n",
              "    }\n",
              "    30% {\n",
              "      border-color: transparent;\n",
              "      border-left-color: var(--fill-color);\n",
              "      border-top-color: var(--fill-color);\n",
              "      border-right-color: var(--fill-color);\n",
              "    }\n",
              "    40% {\n",
              "      border-color: transparent;\n",
              "      border-right-color: var(--fill-color);\n",
              "      border-top-color: var(--fill-color);\n",
              "    }\n",
              "    60% {\n",
              "      border-color: transparent;\n",
              "      border-right-color: var(--fill-color);\n",
              "    }\n",
              "    80% {\n",
              "      border-color: transparent;\n",
              "      border-right-color: var(--fill-color);\n",
              "      border-bottom-color: var(--fill-color);\n",
              "    }\n",
              "    90% {\n",
              "      border-color: transparent;\n",
              "      border-bottom-color: var(--fill-color);\n",
              "    }\n",
              "  }\n",
              "</style>\n",
              "\n",
              "  <script>\n",
              "    async function quickchart(key) {\n",
              "      const quickchartButtonEl =\n",
              "        document.querySelector('#' + key + ' button');\n",
              "      quickchartButtonEl.disabled = true;  // To prevent multiple clicks.\n",
              "      quickchartButtonEl.classList.add('colab-df-spinner');\n",
              "      try {\n",
              "        const charts = await google.colab.kernel.invokeFunction(\n",
              "            'suggestCharts', [key], {});\n",
              "      } catch (error) {\n",
              "        console.error('Error during call to suggestCharts:', error);\n",
              "      }\n",
              "      quickchartButtonEl.classList.remove('colab-df-spinner');\n",
              "      quickchartButtonEl.classList.add('colab-df-quickchart-complete');\n",
              "    }\n",
              "    (() => {\n",
              "      let quickchartButtonEl =\n",
              "        document.querySelector('#df-fc602e6d-d88c-449d-a332-3bce66e3c766 button');\n",
              "      quickchartButtonEl.style.display =\n",
              "        google.colab.kernel.accessAllowed ? 'block' : 'none';\n",
              "    })();\n",
              "  </script>\n",
              "</div>\n",
              "    </div>\n",
              "  </div>\n"
            ],
            "application/vnd.google.colaboratory.intrinsic+json": {
              "type": "dataframe",
              "variable_name": "dataframe_prepared",
              "summary": "{\n  \"name\": \"dataframe_prepared\",\n  \"rows\": 7043,\n  \"fields\": [\n    {\n      \"column\": \"SeniorCitizen\",\n      \"properties\": {\n        \"dtype\": \"number\",\n        \"std\": 0,\n        \"min\": 0,\n        \"max\": 1,\n        \"num_unique_values\": 2,\n        \"samples\": [\n          1,\n          0\n        ],\n        \"semantic_type\": \"\",\n        \"description\": \"\"\n      }\n    },\n    {\n      \"column\": \"Partner\",\n      \"properties\": {\n        \"dtype\": \"number\",\n        \"std\": 0,\n        \"min\": 0,\n        \"max\": 1,\n        \"num_unique_values\": 2,\n        \"samples\": [\n          0,\n          1\n        ],\n        \"semantic_type\": \"\",\n        \"description\": \"\"\n      }\n    },\n    {\n      \"column\": \"Dependents\",\n      \"properties\": {\n        \"dtype\": \"number\",\n        \"std\": 0,\n        \"min\": 0,\n        \"max\": 1,\n        \"num_unique_values\": 2,\n        \"samples\": [\n          1,\n          0\n        ],\n        \"semantic_type\": \"\",\n        \"description\": \"\"\n      }\n    },\n    {\n      \"column\": \"tenure\",\n      \"properties\": {\n        \"dtype\": \"number\",\n        \"std\": 24,\n        \"min\": 0,\n        \"max\": 72,\n        \"num_unique_values\": 73,\n        \"samples\": [\n          8,\n          40\n        ],\n        \"semantic_type\": \"\",\n        \"description\": \"\"\n      }\n    },\n    {\n      \"column\": \"OnlineSecurity\",\n      \"properties\": {\n        \"dtype\": \"number\",\n        \"std\": 0,\n        \"min\": 0,\n        \"max\": 2,\n        \"num_unique_values\": 3,\n        \"samples\": [\n          0,\n          2\n        ],\n        \"semantic_type\": \"\",\n        \"description\": \"\"\n      }\n    },\n    {\n      \"column\": \"OnlineBackup\",\n      \"properties\": {\n        \"dtype\": \"number\",\n        \"std\": 0,\n        \"min\": 0,\n        \"max\": 2,\n        \"num_unique_values\": 3,\n        \"samples\": [\n          2,\n          0\n        ],\n        \"semantic_type\": \"\",\n        \"description\": \"\"\n      }\n    },\n    {\n      \"column\": \"DeviceProtection\",\n      \"properties\": {\n        \"dtype\": \"number\",\n        \"std\": 0,\n        \"min\": 0,\n        \"max\": 2,\n        \"num_unique_values\": 3,\n        \"samples\": [\n          0,\n          2\n        ],\n        \"semantic_type\": \"\",\n        \"description\": \"\"\n      }\n    },\n    {\n      \"column\": \"TechSupport\",\n      \"properties\": {\n        \"dtype\": \"number\",\n        \"std\": 0,\n        \"min\": 0,\n        \"max\": 2,\n        \"num_unique_values\": 3,\n        \"samples\": [\n          0,\n          2\n        ],\n        \"semantic_type\": \"\",\n        \"description\": \"\"\n      }\n    },\n    {\n      \"column\": \"Contract\",\n      \"properties\": {\n        \"dtype\": \"number\",\n        \"std\": 0,\n        \"min\": 0,\n        \"max\": 2,\n        \"num_unique_values\": 3,\n        \"samples\": [\n          0,\n          1\n        ],\n        \"semantic_type\": \"\",\n        \"description\": \"\"\n      }\n    },\n    {\n      \"column\": \"PaperlessBilling\",\n      \"properties\": {\n        \"dtype\": \"number\",\n        \"std\": 0,\n        \"min\": 0,\n        \"max\": 1,\n        \"num_unique_values\": 2,\n        \"samples\": [\n          0,\n          1\n        ],\n        \"semantic_type\": \"\",\n        \"description\": \"\"\n      }\n    },\n    {\n      \"column\": \"PaymentMethod\",\n      \"properties\": {\n        \"dtype\": \"number\",\n        \"std\": 1,\n        \"min\": 0,\n        \"max\": 3,\n        \"num_unique_values\": 4,\n        \"samples\": [\n          3,\n          1\n        ],\n        \"semantic_type\": \"\",\n        \"description\": \"\"\n      }\n    },\n    {\n      \"column\": \"MonthlyCharges\",\n      \"properties\": {\n        \"dtype\": \"number\",\n        \"std\": 30.090047097678493,\n        \"min\": 18.25,\n        \"max\": 118.75,\n        \"num_unique_values\": 1585,\n        \"samples\": [\n          48.85,\n          20.05\n        ],\n        \"semantic_type\": \"\",\n        \"description\": \"\"\n      }\n    },\n    {\n      \"column\": \"TotalCharges\",\n      \"properties\": {\n        \"dtype\": \"number\",\n        \"std\": 2265.0002578033273,\n        \"min\": 18.8,\n        \"max\": 8684.8,\n        \"num_unique_values\": 6531,\n        \"samples\": [\n          4600.7,\n          20.35\n        ],\n        \"semantic_type\": \"\",\n        \"description\": \"\"\n      }\n    },\n    {\n      \"column\": \"Churn\",\n      \"properties\": {\n        \"dtype\": \"number\",\n        \"std\": 0,\n        \"min\": 0,\n        \"max\": 1,\n        \"num_unique_values\": 2,\n        \"samples\": [\n          1,\n          0\n        ],\n        \"semantic_type\": \"\",\n        \"description\": \"\"\n      }\n    }\n  ]\n}"
            }
          },
          "metadata": {},
          "execution_count": 5
        }
      ]
    },
    {
      "cell_type": "code",
      "source": [
        "dataframe_prepared.isnull().sum()"
      ],
      "metadata": {
        "colab": {
          "base_uri": "https://localhost:8080/"
        },
        "id": "skYRx3U4qLvB",
        "outputId": "73af7eb1-d801-4a0c-831b-0f23fbc8423c"
      },
      "execution_count": 6,
      "outputs": [
        {
          "output_type": "execute_result",
          "data": {
            "text/plain": [
              "SeniorCitizen       0\n",
              "Partner             0\n",
              "Dependents          0\n",
              "tenure              0\n",
              "OnlineSecurity      0\n",
              "OnlineBackup        0\n",
              "DeviceProtection    0\n",
              "TechSupport         0\n",
              "Contract            0\n",
              "PaperlessBilling    0\n",
              "PaymentMethod       0\n",
              "MonthlyCharges      0\n",
              "TotalCharges        0\n",
              "Churn               0\n",
              "dtype: int64"
            ]
          },
          "metadata": {},
          "execution_count": 6
        }
      ]
    },
    {
      "cell_type": "markdown",
      "source": [
        "### Separar dados de treino e dados de teste"
      ],
      "metadata": {
        "id": "7adLXy3noy6G"
      }
    },
    {
      "cell_type": "code",
      "source": [
        "# Assuming 'Churn' is the target variable\n",
        "X = dataframe_prepared.drop(columns=['Churn'])  # All columns except 'Churn' are features\n",
        "y = dataframe_prepared['Churn']  # 'Churn' column as target\n",
        "\n",
        "X_train, X_test, y_train, y_test = train_test_split(X, y, test_size=0.20, random_state=seed)  # Splits the data\n",
        "\n",
        "# Convert to array all the informations\n",
        "X_train, X_test, y_train, y_test = X_train.values, X_test.values, y_train.values, y_test.values\n"
      ],
      "metadata": {
        "id": "MZLJFdIznCj-"
      },
      "execution_count": 7,
      "outputs": []
    },
    {
      "cell_type": "code",
      "source": [
        "# Criando os folds para a validação cruzada\n",
        "num_particoes = 10 # número de folds da validação cruzada\n",
        "kfold = KFold(n_splits=num_particoes, shuffle=True, random_state=seed) # faz o particionamento em 10 folds"
      ],
      "metadata": {
        "id": "lYq24X0Kpd4o"
      },
      "execution_count": 8,
      "outputs": []
    },
    {
      "cell_type": "markdown",
      "source": [
        "### Criação de alguns modelos de classificação que utilizão a acurácia como métrica"
      ],
      "metadata": {
        "id": "EAB_W4tnqrZp"
      }
    },
    {
      "cell_type": "code",
      "source": [
        "# Modelagem\n",
        "\n",
        "# Definindo uma seed global para esta célula de código\n",
        "np.random.seed(seed)\n",
        "\n",
        "# Listas para armazenar os modelos, os resultados e os nomes dos modelos\n",
        "models = []\n",
        "results = []\n",
        "names = []\n",
        "\n",
        "# Preparando os modelos e adicionando-os em uma lista\n",
        "models.append(('CART', DecisionTreeClassifier()))\n",
        "models.append(('NB', GaussianNB()))\n",
        "models.append(('dummy_classifier', DummyClassifier(random_state=seed, strategy='most_frequent')))\n",
        "models.append(('k_nearest_neighbors', KNeighborsClassifier()))\n",
        "models.append(('logistic_regression', LogisticRegression(random_state=seed)))\n",
        "models.append(('support_vector_machines', SVC(random_state=seed)))\n",
        "models.append(('random_forest', RandomForestClassifier(random_state=seed)))\n",
        "models.append(('gradient_boosting', GradientBoostingClassifier(random_state=seed)))\n",
        "models.append(('XGBoost', XGBClassifier(random_state=seed)))\n",
        "\n",
        "\n",
        "# Avaliando um modelo por vez\n",
        "for name, model in models:\n",
        "  cv_results = cross_val_score(model, X_train, y_train, cv=kfold, scoring='accuracy')\n",
        "  results.append(cv_results)\n",
        "  names.append(name)\n",
        "  msg = \"%s: %f (%f)\" % (name, cv_results.mean(), cv_results.std()) # média e desvio padrão dos 10 resultados da validação cruzada\n",
        "  print(msg)\n",
        "\n",
        "# Boxplot de comparação dos modelos\n",
        "fig = plt.figure(figsize=(20, 10))\n",
        "fig.suptitle('Comparação da Acurácia dos Modelos')\n",
        "ax = fig.add_subplot(111)\n",
        "plt.boxplot(results)\n",
        "ax.set_xticklabels(names)\n",
        "plt.show()"
      ],
      "metadata": {
        "colab": {
          "base_uri": "https://localhost:8080/",
          "height": 895
        },
        "id": "4ncqEDc3qwmZ",
        "outputId": "f48476d4-8f96-4651-80ba-ad5e8845d61f"
      },
      "execution_count": 9,
      "outputs": [
        {
          "output_type": "stream",
          "name": "stdout",
          "text": [
            "CART: 0.726489 (0.020065)\n",
            "NB: 0.744234 (0.020981)\n",
            "dummy_classifier: 0.734465 (0.014147)\n",
            "k_nearest_neighbors: 0.760205 (0.013797)\n",
            "logistic_regression: 0.795347 (0.014064)\n",
            "support_vector_machines: 0.734465 (0.014147)\n",
            "random_forest: 0.791622 (0.015119)\n",
            "gradient_boosting: 0.800144 (0.014742)\n",
            "XGBoost: 0.780442 (0.011076)\n"
          ]
        },
        {
          "output_type": "display_data",
          "data": {
            "text/plain": [
              "<Figure size 2000x1000 with 1 Axes>"
            ],
            "image/png": "[encoded data removed]"
          },
          "metadata": {}
        }
      ]
    },
    {
      "cell_type": "code",
      "source": [
        "# Criando um modelo com todo o conjunto de treino\n",
        "model = GradientBoostingClassifier(random_state=seed)\n",
        "model.fit(X_train, y_train)\n",
        "\n",
        "# Fazendo as predições com o conjunto de teste\n",
        "predictions = model.predict(X_test)\n"
      ],
      "metadata": {
        "id": "Pu1P8Mcqr8dJ"
      },
      "execution_count": 16,
      "outputs": []
    },
    {
      "cell_type": "markdown",
      "source": [
        "### Matriz de Confusão para avaliar a construção do modelo"
      ],
      "metadata": {
        "id": "ERkWnZoaDSOm"
      }
    },
    {
      "cell_type": "code",
      "source": [
        "# Matriz de confusão\n",
        "cf_matrix = confusion_matrix(y_test, predictions)\n",
        "# Criando o heatmap\n",
        "sns.heatmap(cf_matrix, cmap='coolwarm', annot=True, linewidth=1, fmt='d')\n",
        "plt.show()"
      ],
      "metadata": {
        "colab": {
          "base_uri": "https://localhost:8080/",
          "height": 430
        },
        "id": "KRoZ9ZQYr7v5",
        "outputId": "ae903943-92f7-4a88-fa3a-e1891c895874"
      },
      "execution_count": 17,
      "outputs": [
        {
          "output_type": "display_data",
          "data": {
            "text/plain": [
              "<Figure size 640x480 with 2 Axes>"
            ],
            "image/png": "[encoded data removed]"
          },
          "metadata": {}
        }
      ]
    },
    {
      "cell_type": "markdown",
      "source": [
        "### Criação de alguns modelos utilizando o f1 score como métrica de avaliação\n",
        "\n",
        "\n",
        "Vamos avaliar os modelos utilizando a f1-score, pois é uma métrica mais recomendada para dados de base desbalanceadas, como o do problema em análise"
      ],
      "metadata": {
        "id": "0YSevu7dqyvJ"
      }
    },
    {
      "cell_type": "code",
      "source": [
        "# Modelagem\n",
        "\n",
        "# Definindo uma seed global para esta célula de código\n",
        "np.random.seed(seed)\n",
        "\n",
        "# Listas para armazenar os modelos, os resultados e os nomes dos modelos\n",
        "models = []\n",
        "results = []\n",
        "names = []\n",
        "\n",
        "# Preparando os modelos e adicionando-os em uma lista\n",
        "models.append(('CART', DecisionTreeClassifier()))\n",
        "models.append(('NB', GaussianNB()))\n",
        "models.append(('dummy_classifier', DummyClassifier(random_state=seed, strategy='most_frequent')))\n",
        "models.append(('k_nearest_neighbors', KNeighborsClassifier()))\n",
        "models.append(('logistic_regression', LogisticRegression(random_state=seed)))\n",
        "models.append(('support_vector_machines', SVC(random_state=seed)))\n",
        "models.append(('random_forest', RandomForestClassifier(random_state=seed)))\n",
        "models.append(('gradient_boosting', GradientBoostingClassifier(random_state=seed)))\n",
        "models.append(('XGBoost', XGBClassifier(random_state=seed)))\n",
        "\n",
        "\n",
        "# Avaliando um modelo por vez\n",
        "for name, model in models:\n",
        "  # cv_results = cross_val_score(model, X_train, y_train, cv=kfold, scoring='accuracy')\n",
        "  cv_results = cross_val_score(model, X_train, y_train, cv=kfold, scoring='f1')\n",
        "  results.append(cv_results)\n",
        "  names.append(name)\n",
        "  msg = \"%s: %f (%f)\" % (name, cv_results.mean(), cv_results.std()) # média e desvio padrão dos 10 resultados da validação cruzada\n",
        "  print(msg)\n",
        "\n",
        "# Boxplot de comparação dos modelos\n",
        "fig = plt.figure(figsize=(20, 10))\n",
        "fig.suptitle('Comparação da f1-score dos Modelos')\n",
        "ax = fig.add_subplot(111)\n",
        "plt.boxplot(results)\n",
        "ax.set_xticklabels(names)\n",
        "plt.show()"
      ],
      "metadata": {
        "colab": {
          "base_uri": "https://localhost:8080/",
          "height": 899
        },
        "id": "GPvjv6A0put7",
        "outputId": "e9f04022-e3b9-4402-a4cf-77f5c5060060"
      },
      "execution_count": 13,
      "outputs": [
        {
          "output_type": "stream",
          "name": "stdout",
          "text": [
            "CART: 0.490835 (0.034381)\n",
            "NB: 0.601944 (0.025368)\n",
            "dummy_classifier: 0.000000 (0.000000)\n",
            "k_nearest_neighbors: 0.486853 (0.028599)\n",
            "logistic_regression: 0.590169 (0.014748)\n",
            "support_vector_machines: 0.000000 (0.000000)\n",
            "random_forest: 0.546369 (0.027877)\n",
            "gradient_boosting: 0.575940 (0.022045)\n",
            "XGBoost: 0.554646 (0.017798)\n"
          ]
        },
        {
          "output_type": "display_data",
          "data": {
            "text/plain": [
              "<Figure size 2000x1000 with 1 Axes>"
            ],
            "image/png": "[encoded data removed]"
          },
          "metadata": {}
        }
      ]
    },
    {
      "cell_type": "code",
      "source": [
        "# Criando um modelo com todo o conjunto de treino\n",
        "model = GaussianNB()\n",
        "model.fit(X_train, y_train)\n",
        "\n",
        "# Fazendo as predições com o conjunto de teste\n",
        "predictions = model.predict(X_test)"
      ],
      "metadata": {
        "id": "6isAmgotp4VK"
      },
      "execution_count": 14,
      "outputs": []
    },
    {
      "cell_type": "markdown",
      "source": [
        "### Criação da Matriz de Confusão para avaliar o modelo"
      ],
      "metadata": {
        "id": "20aEfE92DWz2"
      }
    },
    {
      "cell_type": "code",
      "source": [
        "# Matriz de confusão\n",
        "cf_matrix = confusion_matrix(y_test, predictions)\n",
        "# Criando o heatmap\n",
        "sns.heatmap(cf_matrix, cmap='coolwarm', annot=True, linewidth=1, fmt='d')\n",
        "plt.show()"
      ],
      "metadata": {
        "id": "iQ_ZGaJfrz12",
        "colab": {
          "base_uri": "https://localhost:8080/",
          "height": 430
        },
        "outputId": "d13f2c0d-ca6a-4554-8531-4321435a1ae8"
      },
      "execution_count": 15,
      "outputs": [
        {
          "output_type": "display_data",
          "data": {
            "text/plain": [
              "<Figure size 640x480 with 2 Axes>"
            ],
            "image/png": "[encoded data removed]"
          },
          "metadata": {}
        }
      ]
    },
    {
      "cell_type": "markdown",
      "source": [
        "**Conclusões a respeito do Modelo**\n",
        "\n",
        "Em todos os modelos treinados tivemos uma resposta de acurácia superior a 0.7, o que a priori poderia indicar um resultado bom. No entanto quando analisados pela métrica de f1-score, podemos ver que os modelos support_vector_machines e dummy_classifier ficam bem longe do esperado.\n",
        "\n",
        "A próxima etapa desse projeto vai ser pegar o modelo de GaussianNB e GradientBoosting para fazer um provesso de otimização com eles."
      ],
      "metadata": {
        "id": "aMmt5CFBq7wh"
      }
    },
    {
      "cell_type": "markdown",
      "source": [
        "# OTIMIZAÇÃO DO MODELO GaussianNB"
      ],
      "metadata": {
        "id": "clTf92ttHEsL"
      }
    },
    {
      "cell_type": "code",
      "source": [
        "!pip install optuna\n",
        "import optuna"
      ],
      "metadata": {
        "colab": {
          "base_uri": "https://localhost:8080/"
        },
        "id": "DD7dNYRSHEI2",
        "outputId": "ce4fb281-dc8c-4229-8f4a-b9112948725b"
      },
      "execution_count": 19,
      "outputs": [
        {
          "output_type": "stream",
          "name": "stdout",
          "text": [
            "Collecting optuna\n",
            "  Downloading optuna-3.6.1-py3-none-any.whl (380 kB)\n",
            "\u001b[2K     \u001b[90m━━━━━━━━━━━━━━━━━━━━━━━━━━━━━━━━━━━━━━━━\u001b[0m \u001b[32m380.1/380.1 kB\u001b[0m \u001b[31m5.2 MB/s\u001b[0m eta \u001b[36m0:00:00\u001b[0m\n",
            "\u001b[?25hCollecting alembic>=1.5.0 (from optuna)\n",
            "  Downloading alembic-1.13.1-py3-none-any.whl (233 kB)\n",
            "\u001b[2K     \u001b[90m━━━━━━━━━━━━━━━━━━━━━━━━━━━━━━━━━━━━━━━━\u001b[0m \u001b[32m233.4/233.4 kB\u001b[0m \u001b[31m19.5 MB/s\u001b[0m eta \u001b[36m0:00:00\u001b[0m\n",
            "\u001b[?25hCollecting colorlog (from optuna)\n",
            "  Downloading colorlog-6.8.2-py3-none-any.whl (11 kB)\n",
            "Requirement already satisfied: numpy in /usr/local/lib/python3.10/dist-packages (from optuna) (1.25.2)\n",
            "Requirement already satisfied: packaging>=20.0 in /usr/local/lib/python3.10/dist-packages (from optuna) (24.0)\n",
            "Requirement already satisfied: sqlalchemy>=1.3.0 in /usr/local/lib/python3.10/dist-packages (from optuna) (2.0.29)\n",
            "Requirement already satisfied: tqdm in /usr/local/lib/python3.10/dist-packages (from optuna) (4.66.2)\n",
            "Requirement already satisfied: PyYAML in /usr/local/lib/python3.10/dist-packages (from optuna) (6.0.1)\n",
            "Collecting Mako (from alembic>=1.5.0->optuna)\n",
            "  Downloading Mako-1.3.3-py3-none-any.whl (78 kB)\n",
            "\u001b[2K     \u001b[90m━━━━━━━━━━━━━━━━━━━━━━━━━━━━━━━━━━━━━━━━\u001b[0m \u001b[32m78.8/78.8 kB\u001b[0m \u001b[31m8.3 MB/s\u001b[0m eta \u001b[36m0:00:00\u001b[0m\n",
            "\u001b[?25hRequirement already satisfied: typing-extensions>=4 in /usr/local/lib/python3.10/dist-packages (from alembic>=1.5.0->optuna) (4.11.0)\n",
            "Requirement already satisfied: greenlet!=0.4.17 in /usr/local/lib/python3.10/dist-packages (from sqlalchemy>=1.3.0->optuna) (3.0.3)\n",
            "Requirement already satisfied: MarkupSafe>=0.9.2 in /usr/local/lib/python3.10/dist-packages (from Mako->alembic>=1.5.0->optuna) (2.1.5)\n",
            "Installing collected packages: Mako, colorlog, alembic, optuna\n",
            "Successfully installed Mako-1.3.3 alembic-1.13.1 colorlog-6.8.2 optuna-3.6.1\n"
          ]
        }
      ]
    },
    {
      "cell_type": "code",
      "source": [
        "def objective(trial, X_train, X_test, y_train, y_test):\n",
        "\n",
        "    # Define hyperparameters to optimize\n",
        "    var_smoothing = trial.suggest_loguniform('var_smoothing', 1e-10, 1e-5)\n",
        "\n",
        "    # Model with hyperparameters\n",
        "    model = GaussianNB(var_smoothing=var_smoothing)\n",
        "\n",
        "    # Train the model\n",
        "    model.fit(X_train, y_train)\n",
        "\n",
        "    # Predict\n",
        "    y_pred = model.predict(X_test)\n",
        "\n",
        "    # # Calculate accuracy\n",
        "    # metric = accuracy_score(y_test, y_pred)\n",
        "\n",
        "    # Calculate F1-score\n",
        "    metric = f1_score(y_test, y_pred, average='weighted')\n",
        "\n",
        "    return metric"
      ],
      "metadata": {
        "id": "_UxiJAr5HWEf"
      },
      "execution_count": 20,
      "outputs": []
    },
    {
      "cell_type": "code",
      "source": [
        "study = optuna.create_study(direction='maximize')\n",
        "study.optimize(lambda trial: objective(trial, X_train, X_test, y_train, y_test), n_trials=100)\n",
        "\n",
        "print('Number of finished trials:', len(study.trials))\n",
        "print('Best trial:')\n",
        "trial = study.best_trial\n",
        "\n",
        "print('Metric:', trial.value)\n",
        "print(\"Best hyperparameters:\", trial.params)"
      ],
      "metadata": {
        "colab": {
          "base_uri": "https://localhost:8080/"
        },
        "id": "ox4Ao17UIQA8",
        "outputId": "d17e8685-b281-453f-a29d-a5e312a1d8ec"
      },
      "execution_count": 24,
      "outputs": [
        {
          "output_type": "stream",
          "name": "stderr",
          "text": [
            "[I 2024-04-22 18:44:45,628] A new study created in memory with name: no-name-04f4e6f4-ec29-4146-bc29-6e6e53b9cbca\n",
            "[I 2024-04-22 18:44:45,667] Trial 0 finished with value: 0.7846831964494042 and parameters: {'var_smoothing': 8.288926259197554e-07}. Best is trial 0 with value: 0.7846831964494042.\n",
            "[I 2024-04-22 18:44:45,683] Trial 1 finished with value: 0.7729964956035107 and parameters: {'var_smoothing': 9.81248828417195e-08}. Best is trial 0 with value: 0.7846831964494042.\n",
            "[I 2024-04-22 18:44:45,698] Trial 2 finished with value: 0.7684640375415713 and parameters: {'var_smoothing': 1.6940078831232105e-09}. Best is trial 0 with value: 0.7846831964494042.\n",
            "[I 2024-04-22 18:44:45,716] Trial 3 finished with value: 0.7691020601612597 and parameters: {'var_smoothing': 6.38618776618861e-10}. Best is trial 0 with value: 0.7846831964494042.\n",
            "[I 2024-04-22 18:44:45,736] Trial 4 finished with value: 0.7663256853964096 and parameters: {'var_smoothing': 1.1099531489942886e-08}. Best is trial 0 with value: 0.7846831964494042.\n",
            "[I 2024-04-22 18:44:45,753] Trial 5 finished with value: 0.7855762868757067 and parameters: {'var_smoothing': 7.579994482725481e-07}. Best is trial 5 with value: 0.7855762868757067.\n",
            "[I 2024-04-22 18:44:45,768] Trial 6 finished with value: 0.7794114218936203 and parameters: {'var_smoothing': 3.875478783033437e-07}. Best is trial 5 with value: 0.7855762868757067.\n",
            "[I 2024-04-22 18:44:45,784] Trial 7 finished with value: 0.7691020601612597 and parameters: {'var_smoothing': 2.8570756209391634e-10}. Best is trial 5 with value: 0.7855762868757067.\n",
            "[I 2024-04-22 18:44:45,799] Trial 8 finished with value: 0.769739994012729 and parameters: {'var_smoothing': 8.29896869794554e-10}. Best is trial 5 with value: 0.7855762868757067.\n",
            "[I 2024-04-22 18:44:45,814] Trial 9 finished with value: 0.7842705604705703 and parameters: {'var_smoothing': 1.2091478959219308e-06}. Best is trial 5 with value: 0.7855762868757067.\n",
            "[I 2024-04-22 18:44:45,838] Trial 10 finished with value: 0.7801101926086303 and parameters: {'var_smoothing': 5.766249274306201e-06}. Best is trial 5 with value: 0.7855762868757067.\n",
            "[I 2024-04-22 18:44:45,863] Trial 11 finished with value: 0.780726605493555 and parameters: {'var_smoothing': 6.559617680636704e-06}. Best is trial 5 with value: 0.7855762868757067.\n",
            "[I 2024-04-22 18:44:45,888] Trial 12 finished with value: 0.7794114218936203 and parameters: {'var_smoothing': 3.8751146183160664e-07}. Best is trial 5 with value: 0.7855762868757067.\n",
            "[I 2024-04-22 18:44:45,910] Trial 13 finished with value: 0.7671139736205309 and parameters: {'var_smoothing': 2.7483115642176076e-08}. Best is trial 5 with value: 0.7855762868757067.\n",
            "[I 2024-04-22 18:44:45,932] Trial 14 finished with value: 0.7844095725292823 and parameters: {'var_smoothing': 1.0100473006386774e-06}. Best is trial 5 with value: 0.7855762868757067.\n",
            "[I 2024-04-22 18:44:45,954] Trial 15 finished with value: 0.7718941812500779 and parameters: {'var_smoothing': 6.414760772752785e-08}. Best is trial 5 with value: 0.7855762868757067.\n",
            "[I 2024-04-22 18:44:45,979] Trial 16 finished with value: 0.7664014994613912 and parameters: {'var_smoothing': 6.175710824974556e-09}. Best is trial 5 with value: 0.7855762868757067.\n",
            "[I 2024-04-22 18:44:46,006] Trial 17 finished with value: 0.7800040748152447 and parameters: {'var_smoothing': 2.0366223459153895e-06}. Best is trial 5 with value: 0.7855762868757067.\n",
            "[I 2024-04-22 18:44:46,031] Trial 18 finished with value: 0.7786858865061742 and parameters: {'var_smoothing': 1.8999143474100717e-07}. Best is trial 5 with value: 0.7855762868757067.\n",
            "[I 2024-04-22 18:44:46,056] Trial 19 finished with value: 0.7785807546347816 and parameters: {'var_smoothing': 2.380487879991548e-06}. Best is trial 5 with value: 0.7855762868757067.\n",
            "[I 2024-04-22 18:44:46,091] Trial 20 finished with value: 0.7804364348053833 and parameters: {'var_smoothing': 4.130428731739057e-07}. Best is trial 5 with value: 0.7855762868757067.\n",
            "[I 2024-04-22 18:44:46,112] Trial 21 finished with value: 0.7842705604705703 and parameters: {'var_smoothing': 1.2096435151476967e-06}. Best is trial 5 with value: 0.7855762868757067.\n",
            "[I 2024-04-22 18:44:46,144] Trial 22 finished with value: 0.7830231389121072 and parameters: {'var_smoothing': 1.044340325965371e-06}. Best is trial 5 with value: 0.7855762868757067.\n",
            "[I 2024-04-22 18:44:46,166] Trial 23 finished with value: 0.7811603253738808 and parameters: {'var_smoothing': 7.341565993845602e-06}. Best is trial 5 with value: 0.7855762868757067.\n",
            "[I 2024-04-22 18:44:46,188] Trial 24 finished with value: 0.7729977998338119 and parameters: {'var_smoothing': 1.344912461901612e-07}. Best is trial 5 with value: 0.7855762868757067.\n",
            "[I 2024-04-22 18:44:46,209] Trial 25 finished with value: 0.7683894954438887 and parameters: {'var_smoothing': 3.235001645769378e-08}. Best is trial 5 with value: 0.7855762868757067.\n",
            "[I 2024-04-22 18:44:46,230] Trial 26 finished with value: 0.7854694674581026 and parameters: {'var_smoothing': 6.022408603869204e-07}. Best is trial 5 with value: 0.7855762868757067.\n",
            "[I 2024-04-22 18:44:46,250] Trial 27 finished with value: 0.780264985899568 and parameters: {'var_smoothing': 3.674615513227569e-07}. Best is trial 5 with value: 0.7855762868757067.\n",
            "[I 2024-04-22 18:44:46,279] Trial 28 finished with value: 0.7710156035950163 and parameters: {'var_smoothing': 4.8563768018105445e-08}. Best is trial 5 with value: 0.7855762868757067.\n",
            "[I 2024-04-22 18:44:46,303] Trial 29 finished with value: 0.7785807546347816 and parameters: {'var_smoothing': 2.4699058512980887e-06}. Best is trial 5 with value: 0.7855762868757067.\n",
            "[I 2024-04-22 18:44:46,324] Trial 30 finished with value: 0.7781788911552332 and parameters: {'var_smoothing': 2.5189584744349956e-07}. Best is trial 5 with value: 0.7855762868757067.\n",
            "[I 2024-04-22 18:44:46,362] Trial 31 finished with value: 0.7839227826559583 and parameters: {'var_smoothing': 8.371408270623946e-07}. Best is trial 5 with value: 0.7855762868757067.\n",
            "[I 2024-04-22 18:44:46,401] Trial 32 finished with value: 0.7736312471580776 and parameters: {'var_smoothing': 1.0866424432160708e-07}. Best is trial 5 with value: 0.7855762868757067.\n",
            "[I 2024-04-22 18:44:46,423] Trial 33 finished with value: 0.7808882053358982 and parameters: {'var_smoothing': 2.9668295028292675e-06}. Best is trial 5 with value: 0.7855762868757067.\n",
            "[I 2024-04-22 18:44:46,446] Trial 34 finished with value: 0.7852130784245583 and parameters: {'var_smoothing': 6.563790358930526e-07}. Best is trial 5 with value: 0.7855762868757067.\n",
            "[I 2024-04-22 18:44:46,473] Trial 35 finished with value: 0.7842167452005501 and parameters: {'var_smoothing': 5.842558376641936e-07}. Best is trial 5 with value: 0.7855762868757067.\n",
            "[I 2024-04-22 18:44:46,517] Trial 36 finished with value: 0.7649749668148856 and parameters: {'var_smoothing': 1.2302190649149227e-08}. Best is trial 5 with value: 0.7855762868757067.\n",
            "[I 2024-04-22 18:44:46,556] Trial 37 finished with value: 0.7803780264111789 and parameters: {'var_smoothing': 3.6917134044447017e-06}. Best is trial 5 with value: 0.7855762868757067.\n",
            "[I 2024-04-22 18:44:46,611] Trial 38 finished with value: 0.7691020601612597 and parameters: {'var_smoothing': 1.3733069278707413e-10}. Best is trial 5 with value: 0.7855762868757067.\n",
            "[I 2024-04-22 18:44:46,646] Trial 39 finished with value: 0.779317767062455 and parameters: {'var_smoothing': 2.1380999640993416e-07}. Best is trial 5 with value: 0.7855762868757067.\n",
            "[I 2024-04-22 18:44:46,670] Trial 40 finished with value: 0.7854694674581026 and parameters: {'var_smoothing': 6.036192261596318e-07}. Best is trial 5 with value: 0.7855762868757067.\n",
            "[I 2024-04-22 18:44:46,695] Trial 41 finished with value: 0.7855762868757067 and parameters: {'var_smoothing': 7.310958216889878e-07}. Best is trial 5 with value: 0.7855762868757067.\n",
            "[I 2024-04-22 18:44:46,721] Trial 42 finished with value: 0.7853419789121237 and parameters: {'var_smoothing': 6.150479860830237e-07}. Best is trial 5 with value: 0.7855762868757067.\n",
            "[I 2024-04-22 18:44:46,744] Trial 43 finished with value: 0.784322321942275 and parameters: {'var_smoothing': 1.582193772056585e-06}. Best is trial 5 with value: 0.7855762868757067.\n",
            "[I 2024-04-22 18:44:46,771] Trial 44 finished with value: 0.7812168394670952 and parameters: {'var_smoothing': 9.71247985358092e-06}. Best is trial 5 with value: 0.7855762868757067.\n",
            "[I 2024-04-22 18:44:46,813] Trial 45 finished with value: 0.7840828611876781 and parameters: {'var_smoothing': 5.045419590221813e-07}. Best is trial 5 with value: 0.7855762868757067.\n",
            "[I 2024-04-22 18:44:46,845] Trial 46 finished with value: 0.7802046160841464 and parameters: {'var_smoothing': 3.898346473804068e-06}. Best is trial 5 with value: 0.7855762868757067.\n",
            "[I 2024-04-22 18:44:46,873] Trial 47 finished with value: 0.7730815532359611 and parameters: {'var_smoothing': 8.386401925394383e-08}. Best is trial 5 with value: 0.7855762868757067.\n",
            "[I 2024-04-22 18:44:46,899] Trial 48 finished with value: 0.7775486964354525 and parameters: {'var_smoothing': 2.4772795932606546e-07}. Best is trial 5 with value: 0.7855762868757067.\n",
            "[I 2024-04-22 18:44:46,935] Trial 49 finished with value: 0.7768865876429593 and parameters: {'var_smoothing': 1.538030457684429e-07}. Best is trial 5 with value: 0.7855762868757067.\n",
            "[I 2024-04-22 18:44:46,962] Trial 50 finished with value: 0.7855762868757067 and parameters: {'var_smoothing': 7.333299936322232e-07}. Best is trial 5 with value: 0.7855762868757067.\n",
            "[I 2024-04-22 18:44:46,987] Trial 51 finished with value: 0.783699643142419 and parameters: {'var_smoothing': 1.532108028880959e-06}. Best is trial 5 with value: 0.7855762868757067.\n",
            "[I 2024-04-22 18:44:47,015] Trial 52 finished with value: 0.7855762868757067 and parameters: {'var_smoothing': 7.562861668100206e-07}. Best is trial 5 with value: 0.7855762868757067.\n",
            "[I 2024-04-22 18:44:47,045] Trial 53 finished with value: 0.7804849602853605 and parameters: {'var_smoothing': 3.1326631347402676e-07}. Best is trial 5 with value: 0.7855762868757067.\n",
            "[I 2024-04-22 18:44:47,070] Trial 54 finished with value: 0.7844095725292823 and parameters: {'var_smoothing': 9.91501743507314e-07}. Best is trial 5 with value: 0.7855762868757067.\n",
            "[I 2024-04-22 18:44:47,095] Trial 55 finished with value: 0.7794939283334175 and parameters: {'var_smoothing': 4.9216534454904476e-06}. Best is trial 5 with value: 0.7855762868757067.\n",
            "[I 2024-04-22 18:44:47,125] Trial 56 finished with value: 0.7847980319209099 and parameters: {'var_smoothing': 1.7631534896737885e-06}. Best is trial 5 with value: 0.7855762868757067.\n",
            "[I 2024-04-22 18:44:47,152] Trial 57 finished with value: 0.7691020601612597 and parameters: {'var_smoothing': 2.334427234034911e-09}. Best is trial 5 with value: 0.7855762868757067.\n",
            "[I 2024-04-22 18:44:47,175] Trial 58 finished with value: 0.7857083263199722 and parameters: {'var_smoothing': 6.911303644406224e-07}. Best is trial 58 with value: 0.7857083263199722.\n",
            "[I 2024-04-22 18:44:47,197] Trial 59 finished with value: 0.7830231389121072 and parameters: {'var_smoothing': 1.051351425346012e-06}. Best is trial 58 with value: 0.7857083263199722.\n",
            "[I 2024-04-22 18:44:47,233] Trial 60 finished with value: 0.7796361215393233 and parameters: {'var_smoothing': 3.5266145345128524e-07}. Best is trial 58 with value: 0.7857083263199722.\n",
            "[I 2024-04-22 18:44:47,260] Trial 61 finished with value: 0.7853419789121237 and parameters: {'var_smoothing': 6.293225452874479e-07}. Best is trial 58 with value: 0.7857083263199722.\n",
            "[I 2024-04-22 18:44:47,283] Trial 62 finished with value: 0.7852346871698325 and parameters: {'var_smoothing': 1.3650170926506941e-06}. Best is trial 58 with value: 0.7857083263199722.\n",
            "[I 2024-04-22 18:44:47,308] Trial 63 finished with value: 0.7855762868757067 and parameters: {'var_smoothing': 7.401410273664255e-07}. Best is trial 58 with value: 0.7857083263199722.\n",
            "[I 2024-04-22 18:44:47,335] Trial 64 finished with value: 0.7785807546347816 and parameters: {'var_smoothing': 2.4701232708507377e-06}. Best is trial 58 with value: 0.7857083263199722.\n",
            "[I 2024-04-22 18:44:47,364] Trial 65 finished with value: 0.7846831964494042 and parameters: {'var_smoothing': 8.22671558075512e-07}. Best is trial 58 with value: 0.7857083263199722.\n",
            "[I 2024-04-22 18:44:47,392] Trial 66 finished with value: 0.7743570944455854 and parameters: {'var_smoothing': 1.419949288476252e-07}. Best is trial 58 with value: 0.7857083263199722.\n",
            "[I 2024-04-22 18:44:47,415] Trial 67 finished with value: 0.7818087070878499 and parameters: {'var_smoothing': 4.5040935278685523e-07}. Best is trial 58 with value: 0.7857083263199722.\n",
            "[I 2024-04-22 18:44:47,437] Trial 68 finished with value: 0.7807805141536549 and parameters: {'var_smoothing': 1.9865019260094605e-06}. Best is trial 58 with value: 0.7857083263199722.\n",
            "[I 2024-04-22 18:44:47,459] Trial 69 finished with value: 0.7792259262449938 and parameters: {'var_smoothing': 2.905575032771608e-07}. Best is trial 58 with value: 0.7857083263199722.\n",
            "[I 2024-04-22 18:44:47,492] Trial 70 finished with value: 0.7840585719363296 and parameters: {'var_smoothing': 8.127028439026757e-07}. Best is trial 58 with value: 0.7857083263199722.\n",
            "[I 2024-04-22 18:44:47,516] Trial 71 finished with value: 0.7818087070878499 and parameters: {'var_smoothing': 4.5159846427402266e-07}. Best is trial 58 with value: 0.7857083263199722.\n",
            "[I 2024-04-22 18:44:47,542] Trial 72 finished with value: 0.7780539859496038 and parameters: {'var_smoothing': 1.9348474025594927e-07}. Best is trial 58 with value: 0.7857083263199722.\n",
            "[I 2024-04-22 18:44:47,565] Trial 73 finished with value: 0.7849510096791456 and parameters: {'var_smoothing': 6.977873683004597e-07}. Best is trial 58 with value: 0.7857083263199722.\n",
            "[I 2024-04-22 18:44:47,590] Trial 74 finished with value: 0.7842705604705703 and parameters: {'var_smoothing': 1.2313017346237852e-06}. Best is trial 58 with value: 0.7857083263199722.\n",
            "[I 2024-04-22 18:44:47,620] Trial 75 finished with value: 0.7807198102642567 and parameters: {'var_smoothing': 3.184711766203471e-06}. Best is trial 58 with value: 0.7857083263199722.\n",
            "[I 2024-04-22 18:44:47,650] Trial 76 finished with value: 0.7803186663824052 and parameters: {'var_smoothing': 4.563548308418666e-07}. Best is trial 58 with value: 0.7857083263199722.\n",
            "[I 2024-04-22 18:44:47,678] Trial 77 finished with value: 0.7729964956035107 and parameters: {'var_smoothing': 8.850230234340366e-08}. Best is trial 58 with value: 0.7857083263199722.\n",
            "[I 2024-04-22 18:44:47,709] Trial 78 finished with value: 0.7830231389121072 and parameters: {'var_smoothing': 1.0394019565240297e-06}. Best is trial 58 with value: 0.7857083263199722.\n",
            "[I 2024-04-22 18:44:47,743] Trial 79 finished with value: 0.7796361215393233 and parameters: {'var_smoothing': 3.500944171888122e-07}. Best is trial 58 with value: 0.7857083263199722.\n",
            "[I 2024-04-22 18:44:47,784] Trial 80 finished with value: 0.7716532834278762 and parameters: {'var_smoothing': 4.898306454818127e-08}. Best is trial 58 with value: 0.7857083263199722.\n",
            "[I 2024-04-22 18:44:47,808] Trial 81 finished with value: 0.783590463055412 and parameters: {'var_smoothing': 5.708295812481242e-07}. Best is trial 58 with value: 0.7857083263199722.\n",
            "[I 2024-04-22 18:44:47,848] Trial 82 finished with value: 0.786333961385389 and parameters: {'var_smoothing': 7.637807960354439e-07}. Best is trial 82 with value: 0.786333961385389.\n",
            "[I 2024-04-22 18:44:47,872] Trial 83 finished with value: 0.7848178252286999 and parameters: {'var_smoothing': 7.997242012385929e-07}. Best is trial 82 with value: 0.786333961385389.\n",
            "[I 2024-04-22 18:44:47,913] Trial 84 finished with value: 0.784322321942275 and parameters: {'var_smoothing': 1.5661149224047833e-06}. Best is trial 82 with value: 0.786333961385389.\n",
            "[I 2024-04-22 18:44:47,939] Trial 85 finished with value: 0.7769184915398066 and parameters: {'var_smoothing': 2.4451683252815825e-07}. Best is trial 82 with value: 0.786333961385389.\n",
            "[I 2024-04-22 18:44:47,970] Trial 86 finished with value: 0.7784485038111948 and parameters: {'var_smoothing': 2.1729569379834046e-06}. Best is trial 82 with value: 0.786333961385389.\n",
            "[I 2024-04-22 18:44:47,996] Trial 87 finished with value: 0.7838394430473377 and parameters: {'var_smoothing': 5.346195361673191e-07}. Best is trial 82 with value: 0.786333961385389.\n",
            "[I 2024-04-22 18:44:48,023] Trial 88 finished with value: 0.7835066116044409 and parameters: {'var_smoothing': 1.2655829612555637e-06}. Best is trial 82 with value: 0.786333961385389.\n",
            "[I 2024-04-22 18:44:48,057] Trial 89 finished with value: 0.7855762868757067 and parameters: {'var_smoothing': 7.437651626564978e-07}. Best is trial 82 with value: 0.786333961385389.\n",
            "[I 2024-04-22 18:44:48,092] Trial 90 finished with value: 0.7656118420279372 and parameters: {'var_smoothing': 1.174016366315949e-08}. Best is trial 82 with value: 0.786333961385389.\n",
            "[I 2024-04-22 18:44:48,130] Trial 91 finished with value: 0.7851715220272691 and parameters: {'var_smoothing': 8.85090323048507e-07}. Best is trial 82 with value: 0.786333961385389.\n",
            "[I 2024-04-22 18:44:48,159] Trial 92 finished with value: 0.7852130784245583 and parameters: {'var_smoothing': 6.71393173159043e-07}. Best is trial 82 with value: 0.786333961385389.\n",
            "[I 2024-04-22 18:44:48,188] Trial 93 finished with value: 0.780264985899568 and parameters: {'var_smoothing': 3.6871290896053926e-07}. Best is trial 82 with value: 0.786333961385389.\n",
            "[I 2024-04-22 18:44:48,219] Trial 94 finished with value: 0.778151151959784 and parameters: {'var_smoothing': 1.8035649580626896e-07}. Best is trial 82 with value: 0.786333961385389.\n",
            "[I 2024-04-22 18:44:48,246] Trial 95 finished with value: 0.7804849602853605 and parameters: {'var_smoothing': 2.942434410069347e-07}. Best is trial 82 with value: 0.786333961385389.\n",
            "[I 2024-04-22 18:44:48,275] Trial 96 finished with value: 0.7842705604705703 and parameters: {'var_smoothing': 1.2009448454104935e-06}. Best is trial 82 with value: 0.786333961385389.\n",
            "[I 2024-04-22 18:44:48,304] Trial 97 finished with value: 0.7790577712128098 and parameters: {'var_smoothing': 4.804195508041911e-06}. Best is trial 82 with value: 0.786333961385389.\n",
            "[I 2024-04-22 18:44:48,329] Trial 98 finished with value: 0.7691020601612597 and parameters: {'var_smoothing': 5.317525952867232e-10}. Best is trial 82 with value: 0.786333961385389.\n",
            "[I 2024-04-22 18:44:48,363] Trial 99 finished with value: 0.7727337681071357 and parameters: {'var_smoothing': 1.1479630216543803e-07}. Best is trial 82 with value: 0.786333961385389.\n"
          ]
        },
        {
          "output_type": "stream",
          "name": "stdout",
          "text": [
            "Number of finished trials: 100\n",
            "Best trial:\n",
            "Metric: 0.786333961385389\n",
            "Best hyperparameters: {'var_smoothing': 7.637807960354439e-07}\n"
          ]
        }
      ]
    },
    {
      "cell_type": "code",
      "source": [
        "optuna.visualization.plot_optimization_history(study)"
      ],
      "metadata": {
        "colab": {
          "base_uri": "https://localhost:8080/",
          "height": 542
        },
        "id": "eilHP4ZVIdIr",
        "outputId": "702815d7-8d7c-4c9f-b431-fb21fe0dfcba"
      },
      "execution_count": 25,
      "outputs": [
        {
          "output_type": "display_data",
          "data": {
            "text/html": [
              "<html>\n",
              "<head><meta charset=\"utf-8\" /></head>\n",
              "<body>\n",
              "    <div>            <script src=\"https://cdnjs.cloudflare.com/ajax/libs/mathjax/2.7.5/MathJax.js?config=TeX-AMS-MML_SVG\"></script><script type=\"text/javascript\">if (window.MathJax && window.MathJax.Hub && window.MathJax.Hub.Config) {window.MathJax.Hub.Config({SVG: {font: \"STIX-Web\"}});}</script>                <script type=\"text/javascript\">window.PlotlyConfig = {MathJaxConfig: 'local'};</script>\n",
              "        <script charset=\"utf-8\" src=\"https://cdn.plot.ly/plotly-2.24.1.min.js\"></script>                <div id=\"dc8f82b0-856b-40ff-9b54-0bbc809f12e4\" class=\"plotly-graph-div\" style=\"height:525px; width:100%;\"></div>            <script type=\"text/javascript\">                                    window.PLOTLYENV=window.PLOTLYENV || {};                                    if (document.getElementById(\"dc8f82b0-856b-40ff-9b54-0bbc809f12e4\")) {                    Plotly.newPlot(                        \"dc8f82b0-856b-40ff-9b54-0bbc809f12e4\",                        [{\"mode\":\"markers\",\"name\":\"Objective Value\",\"x\":[0,1,2,3,4,5,6,7,8,9,10,11,12,13,14,15,16,17,18,19,20,21,22,23,24,25,26,27,28,29,30,31,32,33,34,35,36,37,38,39,40,41,42,43,44,45,46,47,48,49,50,51,52,53,54,55,56,57,58,59,60,61,62,63,64,65,66,67,68,69,70,71,72,73,74,75,76,77,78,79,80,81,82,83,84,85,86,87,88,89,90,91,92,93,94,95,96,97,98,99],\"y\":[0.7846831964494042,0.7729964956035107,0.7684640375415713,0.7691020601612597,0.7663256853964096,0.7855762868757067,0.7794114218936203,0.7691020601612597,0.769739994012729,0.7842705604705703,0.7801101926086303,0.780726605493555,0.7794114218936203,0.7671139736205309,0.7844095725292823,0.7718941812500779,0.7664014994613912,0.7800040748152447,0.7786858865061742,0.7785807546347816,0.7804364348053833,0.7842705604705703,0.7830231389121072,0.7811603253738808,0.7729977998338119,0.7683894954438887,0.7854694674581026,0.780264985899568,0.7710156035950163,0.7785807546347816,0.7781788911552332,0.7839227826559583,0.7736312471580776,0.7808882053358982,0.7852130784245583,0.7842167452005501,0.7649749668148856,0.7803780264111789,0.7691020601612597,0.779317767062455,0.7854694674581026,0.7855762868757067,0.7853419789121237,0.784322321942275,0.7812168394670952,0.7840828611876781,0.7802046160841464,0.7730815532359611,0.7775486964354525,0.7768865876429593,0.7855762868757067,0.783699643142419,0.7855762868757067,0.7804849602853605,0.7844095725292823,0.7794939283334175,0.7847980319209099,0.7691020601612597,0.7857083263199722,0.7830231389121072,0.7796361215393233,0.7853419789121237,0.7852346871698325,0.7855762868757067,0.7785807546347816,0.7846831964494042,0.7743570944455854,0.7818087070878499,0.7807805141536549,0.7792259262449938,0.7840585719363296,0.7818087070878499,0.7780539859496038,0.7849510096791456,0.7842705604705703,0.7807198102642567,0.7803186663824052,0.7729964956035107,0.7830231389121072,0.7796361215393233,0.7716532834278762,0.783590463055412,0.786333961385389,0.7848178252286999,0.784322321942275,0.7769184915398066,0.7784485038111948,0.7838394430473377,0.7835066116044409,0.7855762868757067,0.7656118420279372,0.7851715220272691,0.7852130784245583,0.780264985899568,0.778151151959784,0.7804849602853605,0.7842705604705703,0.7790577712128098,0.7691020601612597,0.7727337681071357],\"type\":\"scatter\"},{\"mode\":\"lines\",\"name\":\"Best Value\",\"x\":[0,1,2,3,4,5,6,7,8,9,10,11,12,13,14,15,16,17,18,19,20,21,22,23,24,25,26,27,28,29,30,31,32,33,34,35,36,37,38,39,40,41,42,43,44,45,46,47,48,49,50,51,52,53,54,55,56,57,58,59,60,61,62,63,64,65,66,67,68,69,70,71,72,73,74,75,76,77,78,79,80,81,82,83,84,85,86,87,88,89,90,91,92,93,94,95,96,97,98,99],\"y\":[0.7846831964494042,0.7846831964494042,0.7846831964494042,0.7846831964494042,0.7846831964494042,0.7855762868757067,0.7855762868757067,0.7855762868757067,0.7855762868757067,0.7855762868757067,0.7855762868757067,0.7855762868757067,0.7855762868757067,0.7855762868757067,0.7855762868757067,0.7855762868757067,0.7855762868757067,0.7855762868757067,0.7855762868757067,0.7855762868757067,0.7855762868757067,0.7855762868757067,0.7855762868757067,0.7855762868757067,0.7855762868757067,0.7855762868757067,0.7855762868757067,0.7855762868757067,0.7855762868757067,0.7855762868757067,0.7855762868757067,0.7855762868757067,0.7855762868757067,0.7855762868757067,0.7855762868757067,0.7855762868757067,0.7855762868757067,0.7855762868757067,0.7855762868757067,0.7855762868757067,0.7855762868757067,0.7855762868757067,0.7855762868757067,0.7855762868757067,0.7855762868757067,0.7855762868757067,0.7855762868757067,0.7855762868757067,0.7855762868757067,0.7855762868757067,0.7855762868757067,0.7855762868757067,0.7855762868757067,0.7855762868757067,0.7855762868757067,0.7855762868757067,0.7855762868757067,0.7855762868757067,0.7857083263199722,0.7857083263199722,0.7857083263199722,0.7857083263199722,0.7857083263199722,0.7857083263199722,0.7857083263199722,0.7857083263199722,0.7857083263199722,0.7857083263199722,0.7857083263199722,0.7857083263199722,0.7857083263199722,0.7857083263199722,0.7857083263199722,0.7857083263199722,0.7857083263199722,0.7857083263199722,0.7857083263199722,0.7857083263199722,0.7857083263199722,0.7857083263199722,0.7857083263199722,0.7857083263199722,0.786333961385389,0.786333961385389,0.786333961385389,0.786333961385389,0.786333961385389,0.786333961385389,0.786333961385389,0.786333961385389,0.786333961385389,0.786333961385389,0.786333961385389,0.786333961385389,0.786333961385389,0.786333961385389,0.786333961385389,0.786333961385389,0.786333961385389,0.786333961385389],\"type\":\"scatter\"},{\"marker\":{\"color\":\"#cccccc\"},\"mode\":\"markers\",\"name\":\"Infeasible Trial\",\"showlegend\":false,\"x\":[],\"y\":[],\"type\":\"scatter\"}],                        {\"title\":{\"text\":\"Optimization History Plot\"},\"xaxis\":{\"title\":{\"text\":\"Trial\"}},\"yaxis\":{\"title\":{\"text\":\"Objective Value\"}},\"template\":{\"data\":{\"histogram2dcontour\":[{\"type\":\"histogram2dcontour\",\"colorbar\":{\"outlinewidth\":0,\"ticks\":\"\"},\"colorscale\":[[0.0,\"#0d0887\"],[0.1111111111111111,\"#46039f\"],[0.2222222222222222,\"#7201a8\"],[0.3333333333333333,\"#9c179e\"],[0.4444444444444444,\"#bd3786\"],[0.5555555555555556,\"#d8576b\"],[0.6666666666666666,\"#ed7953\"],[0.7777777777777778,\"#fb9f3a\"],[0.8888888888888888,\"#fdca26\"],[1.0,\"#f0f921\"]]}],\"choropleth\":[{\"type\":\"choropleth\",\"colorbar\":{\"outlinewidth\":0,\"ticks\":\"\"}}],\"histogram2d\":[{\"type\":\"histogram2d\",\"colorbar\":{\"outlinewidth\":0,\"ticks\":\"\"},\"colorscale\":[[0.0,\"#0d0887\"],[0.1111111111111111,\"#46039f\"],[0.2222222222222222,\"#7201a8\"],[0.3333333333333333,\"#9c179e\"],[0.4444444444444444,\"#bd3786\"],[0.5555555555555556,\"#d8576b\"],[0.6666666666666666,\"#ed7953\"],[0.7777777777777778,\"#fb9f3a\"],[0.8888888888888888,\"#fdca26\"],[1.0,\"#f0f921\"]]}],\"heatmap\":[{\"type\":\"heatmap\",\"colorbar\":{\"outlinewidth\":0,\"ticks\":\"\"},\"colorscale\":[[0.0,\"#0d0887\"],[0.1111111111111111,\"#46039f\"],[0.2222222222222222,\"#7201a8\"],[0.3333333333333333,\"#9c179e\"],[0.4444444444444444,\"#bd3786\"],[0.5555555555555556,\"#d8576b\"],[0.6666666666666666,\"#ed7953\"],[0.7777777777777778,\"#fb9f3a\"],[0.8888888888888888,\"#fdca26\"],[1.0,\"#f0f921\"]]}],\"heatmapgl\":[{\"type\":\"heatmapgl\",\"colorbar\":{\"outlinewidth\":0,\"ticks\":\"\"},\"colorscale\":[[0.0,\"#0d0887\"],[0.1111111111111111,\"#46039f\"],[0.2222222222222222,\"#7201a8\"],[0.3333333333333333,\"#9c179e\"],[0.4444444444444444,\"#bd3786\"],[0.5555555555555556,\"#d8576b\"],[0.6666666666666666,\"#ed7953\"],[0.7777777777777778,\"#fb9f3a\"],[0.8888888888888888,\"#fdca26\"],[1.0,\"#f0f921\"]]}],\"contourcarpet\":[{\"type\":\"contourcarpet\",\"colorbar\":{\"outlinewidth\":0,\"ticks\":\"\"}}],\"contour\":[{\"type\":\"contour\",\"colorbar\":{\"outlinewidth\":0,\"ticks\":\"\"},\"colorscale\":[[0.0,\"#0d0887\"],[0.1111111111111111,\"#46039f\"],[0.2222222222222222,\"#7201a8\"],[0.3333333333333333,\"#9c179e\"],[0.4444444444444444,\"#bd3786\"],[0.5555555555555556,\"#d8576b\"],[0.6666666666666666,\"#ed7953\"],[0.7777777777777778,\"#fb9f3a\"],[0.8888888888888888,\"#fdca26\"],[1.0,\"#f0f921\"]]}],\"surface\":[{\"type\":\"surface\",\"colorbar\":{\"outlinewidth\":0,\"ticks\":\"\"},\"colorscale\":[[0.0,\"#0d0887\"],[0.1111111111111111,\"#46039f\"],[0.2222222222222222,\"#7201a8\"],[0.3333333333333333,\"#9c179e\"],[0.4444444444444444,\"#bd3786\"],[0.5555555555555556,\"#d8576b\"],[0.6666666666666666,\"#ed7953\"],[0.7777777777777778,\"#fb9f3a\"],[0.8888888888888888,\"#fdca26\"],[1.0,\"#f0f921\"]]}],\"mesh3d\":[{\"type\":\"mesh3d\",\"colorbar\":{\"outlinewidth\":0,\"ticks\":\"\"}}],\"scatter\":[{\"fillpattern\":{\"fillmode\":\"overlay\",\"size\":10,\"solidity\":0.2},\"type\":\"scatter\"}],\"parcoords\":[{\"type\":\"parcoords\",\"line\":{\"colorbar\":{\"outlinewidth\":0,\"ticks\":\"\"}}}],\"scatterpolargl\":[{\"type\":\"scatterpolargl\",\"marker\":{\"colorbar\":{\"outlinewidth\":0,\"ticks\":\"\"}}}],\"bar\":[{\"error_x\":{\"color\":\"#2a3f5f\"},\"error_y\":{\"color\":\"#2a3f5f\"},\"marker\":{\"line\":{\"color\":\"#E5ECF6\",\"width\":0.5},\"pattern\":{\"fillmode\":\"overlay\",\"size\":10,\"solidity\":0.2}},\"type\":\"bar\"}],\"scattergeo\":[{\"type\":\"scattergeo\",\"marker\":{\"colorbar\":{\"outlinewidth\":0,\"ticks\":\"\"}}}],\"scatterpolar\":[{\"type\":\"scatterpolar\",\"marker\":{\"colorbar\":{\"outlinewidth\":0,\"ticks\":\"\"}}}],\"histogram\":[{\"marker\":{\"pattern\":{\"fillmode\":\"overlay\",\"size\":10,\"solidity\":0.2}},\"type\":\"histogram\"}],\"scattergl\":[{\"type\":\"scattergl\",\"marker\":{\"colorbar\":{\"outlinewidth\":0,\"ticks\":\"\"}}}],\"scatter3d\":[{\"type\":\"scatter3d\",\"line\":{\"colorbar\":{\"outlinewidth\":0,\"ticks\":\"\"}},\"marker\":{\"colorbar\":{\"outlinewidth\":0,\"ticks\":\"\"}}}],\"scattermapbox\":[{\"type\":\"scattermapbox\",\"marker\":{\"colorbar\":{\"outlinewidth\":0,\"ticks\":\"\"}}}],\"scatterternary\":[{\"type\":\"scatterternary\",\"marker\":{\"colorbar\":{\"outlinewidth\":0,\"ticks\":\"\"}}}],\"scattercarpet\":[{\"type\":\"scattercarpet\",\"marker\":{\"colorbar\":{\"outlinewidth\":0,\"ticks\":\"\"}}}],\"carpet\":[{\"aaxis\":{\"endlinecolor\":\"#2a3f5f\",\"gridcolor\":\"white\",\"linecolor\":\"white\",\"minorgridcolor\":\"white\",\"startlinecolor\":\"#2a3f5f\"},\"baxis\":{\"endlinecolor\":\"#2a3f5f\",\"gridcolor\":\"white\",\"linecolor\":\"white\",\"minorgridcolor\":\"white\",\"startlinecolor\":\"#2a3f5f\"},\"type\":\"carpet\"}],\"table\":[{\"cells\":{\"fill\":{\"color\":\"#EBF0F8\"},\"line\":{\"color\":\"white\"}},\"header\":{\"fill\":{\"color\":\"#C8D4E3\"},\"line\":{\"color\":\"white\"}},\"type\":\"table\"}],\"barpolar\":[{\"marker\":{\"line\":{\"color\":\"#E5ECF6\",\"width\":0.5},\"pattern\":{\"fillmode\":\"overlay\",\"size\":10,\"solidity\":0.2}},\"type\":\"barpolar\"}],\"pie\":[{\"automargin\":true,\"type\":\"pie\"}]},\"layout\":{\"autotypenumbers\":\"strict\",\"colorway\":[\"#636efa\",\"#EF553B\",\"#00cc96\",\"#ab63fa\",\"#FFA15A\",\"#19d3f3\",\"#FF6692\",\"#B6E880\",\"#FF97FF\",\"#FECB52\"],\"font\":{\"color\":\"#2a3f5f\"},\"hovermode\":\"closest\",\"hoverlabel\":{\"align\":\"left\"},\"paper_bgcolor\":\"white\",\"plot_bgcolor\":\"#E5ECF6\",\"polar\":{\"bgcolor\":\"#E5ECF6\",\"angularaxis\":{\"gridcolor\":\"white\",\"linecolor\":\"white\",\"ticks\":\"\"},\"radialaxis\":{\"gridcolor\":\"white\",\"linecolor\":\"white\",\"ticks\":\"\"}},\"ternary\":{\"bgcolor\":\"#E5ECF6\",\"aaxis\":{\"gridcolor\":\"white\",\"linecolor\":\"white\",\"ticks\":\"\"},\"baxis\":{\"gridcolor\":\"white\",\"linecolor\":\"white\",\"ticks\":\"\"},\"caxis\":{\"gridcolor\":\"white\",\"linecolor\":\"white\",\"ticks\":\"\"}},\"coloraxis\":{\"colorbar\":{\"outlinewidth\":0,\"ticks\":\"\"}},\"colorscale\":{\"sequential\":[[0.0,\"#0d0887\"],[0.1111111111111111,\"#46039f\"],[0.2222222222222222,\"#7201a8\"],[0.3333333333333333,\"#9c179e\"],[0.4444444444444444,\"#bd3786\"],[0.5555555555555556,\"#d8576b\"],[0.6666666666666666,\"#ed7953\"],[0.7777777777777778,\"#fb9f3a\"],[0.8888888888888888,\"#fdca26\"],[1.0,\"#f0f921\"]],\"sequentialminus\":[[0.0,\"#0d0887\"],[0.1111111111111111,\"#46039f\"],[0.2222222222222222,\"#7201a8\"],[0.3333333333333333,\"#9c179e\"],[0.4444444444444444,\"#bd3786\"],[0.5555555555555556,\"#d8576b\"],[0.6666666666666666,\"#ed7953\"],[0.7777777777777778,\"#fb9f3a\"],[0.8888888888888888,\"#fdca26\"],[1.0,\"#f0f921\"]],\"diverging\":[[0,\"#8e0152\"],[0.1,\"#c51b7d\"],[0.2,\"#de77ae\"],[0.3,\"#f1b6da\"],[0.4,\"#fde0ef\"],[0.5,\"#f7f7f7\"],[0.6,\"#e6f5d0\"],[0.7,\"#b8e186\"],[0.8,\"#7fbc41\"],[0.9,\"#4d9221\"],[1,\"#276419\"]]},\"xaxis\":{\"gridcolor\":\"white\",\"linecolor\":\"white\",\"ticks\":\"\",\"title\":{\"standoff\":15},\"zerolinecolor\":\"white\",\"automargin\":true,\"zerolinewidth\":2},\"yaxis\":{\"gridcolor\":\"white\",\"linecolor\":\"white\",\"ticks\":\"\",\"title\":{\"standoff\":15},\"zerolinecolor\":\"white\",\"automargin\":true,\"zerolinewidth\":2},\"scene\":{\"xaxis\":{\"backgroundcolor\":\"#E5ECF6\",\"gridcolor\":\"white\",\"linecolor\":\"white\",\"showbackground\":true,\"ticks\":\"\",\"zerolinecolor\":\"white\",\"gridwidth\":2},\"yaxis\":{\"backgroundcolor\":\"#E5ECF6\",\"gridcolor\":\"white\",\"linecolor\":\"white\",\"showbackground\":true,\"ticks\":\"\",\"zerolinecolor\":\"white\",\"gridwidth\":2},\"zaxis\":{\"backgroundcolor\":\"#E5ECF6\",\"gridcolor\":\"white\",\"linecolor\":\"white\",\"showbackground\":true,\"ticks\":\"\",\"zerolinecolor\":\"white\",\"gridwidth\":2}},\"shapedefaults\":{\"line\":{\"color\":\"#2a3f5f\"}},\"annotationdefaults\":{\"arrowcolor\":\"#2a3f5f\",\"arrowhead\":0,\"arrowwidth\":1},\"geo\":{\"bgcolor\":\"white\",\"landcolor\":\"#E5ECF6\",\"subunitcolor\":\"white\",\"showland\":true,\"showlakes\":true,\"lakecolor\":\"white\"},\"title\":{\"x\":0.05},\"mapbox\":{\"style\":\"light\"}}}},                        {\"responsive\": true}                    ).then(function(){\n",
              "                            \n",
              "var gd = document.getElementById('dc8f82b0-856b-40ff-9b54-0bbc809f12e4');\n",
              "var x = new MutationObserver(function (mutations, observer) {{\n",
              "        var display = window.getComputedStyle(gd).display;\n",
              "        if (!display || display === 'none') {{\n",
              "            console.log([gd, 'removed!']);\n",
              "            Plotly.purge(gd);\n",
              "            observer.disconnect();\n",
              "        }}\n",
              "}});\n",
              "\n",
              "// Listen for the removal of the full notebook cells\n",
              "var notebookContainer = gd.closest('#notebook-container');\n",
              "if (notebookContainer) {{\n",
              "    x.observe(notebookContainer, {childList: true});\n",
              "}}\n",
              "\n",
              "// Listen for the clearing of the current output cell\n",
              "var outputEl = gd.closest('.output');\n",
              "if (outputEl) {{\n",
              "    x.observe(outputEl, {childList: true});\n",
              "}}\n",
              "\n",
              "                        })                };                            </script>        </div>\n",
              "</body>\n",
              "</html>"
            ]
          },
          "metadata": {}
        }
      ]
    },
    {
      "cell_type": "code",
      "source": [
        "# Criando um modelo com todo o conjunto de treino\n",
        "model = GaussianNB(var_smoothing= 7.637807960354439e-07)\n",
        "model.fit(X_train, y_train)\n",
        "\n",
        "# Fazendo as predições com o conjunto de teste\n",
        "predictions = model.predict(X_test)\n",
        "# Matriz de confusão\n",
        "cf_matrix = confusion_matrix(y_test, predictions)\n",
        "# Criando o heatmap\n",
        "sns.heatmap(cf_matrix, cmap='coolwarm', annot=True, linewidth=1, fmt='d')\n",
        "plt.show()"
      ],
      "metadata": {
        "colab": {
          "base_uri": "https://localhost:8080/",
          "height": 430
        },
        "id": "bx3GnhNOIu1s",
        "outputId": "5c0d5350-9fd0-41ca-ec04-8a3ca2d68994"
      },
      "execution_count": 27,
      "outputs": [
        {
          "output_type": "display_data",
          "data": {
            "text/plain": [
              "<Figure size 640x480 with 2 Axes>"
            ],
            "image/png": "[encoded data removed]"
          },
          "metadata": {}
        }
      ]
    },
    {
      "cell_type": "markdown",
      "source": [
        "# OTIMIZAÇÃO DO MODELO GaussianNB"
      ],
      "metadata": {
        "id": "2OKzHGFwJHBq"
      }
    },
    {
      "cell_type": "code",
      "source": [
        "def objective(trial, X_train, X_test, y_train, y_test,seed):\n",
        "\n",
        "    # Define hyperparameters to optimize\n",
        "    learning_rate = trial.suggest_loguniform('learning_rate', 0.01, 1.0)\n",
        "    n_estimators = trial.suggest_int('n_estimators', 50, 500)\n",
        "    max_depth = trial.suggest_int('max_depth', 1, 32)\n",
        "    min_samples_split = trial.suggest_int('min_samples_split', 2, 20)\n",
        "    min_samples_leaf = trial.suggest_int('min_samples_leaf', 1, 20)\n",
        "\n",
        "\n",
        "    # Model with hyperparameters\n",
        "    model = GradientBoostingClassifier(\n",
        "        learning_rate=learning_rate,\n",
        "        n_estimators=n_estimators,\n",
        "        max_depth=max_depth,\n",
        "        min_samples_split=min_samples_split,\n",
        "        min_samples_leaf=min_samples_leaf,\n",
        "        random_state=seed\n",
        "    )\n",
        "\n",
        "    # Train the model\n",
        "    model.fit(X_train, y_train)\n",
        "\n",
        "    # Predict\n",
        "    y_pred = model.predict(X_test)\n",
        "\n",
        "    # # Calculate accuracy\n",
        "    # metric = accuracy_score(y_test, y_pred)\n",
        "\n",
        "    # Calculate F1-score\n",
        "    metric = f1_score(y_test, y_pred, average='weighted')\n",
        "\n",
        "    return metric"
      ],
      "metadata": {
        "id": "h_3wgXyzJAe6"
      },
      "execution_count": 28,
      "outputs": []
    },
    {
      "cell_type": "code",
      "source": [
        "study = optuna.create_study(direction='maximize')\n",
        "study.optimize(lambda trial: objective(trial, X_train, X_test, y_train, y_test, seed), n_trials=100)\n",
        "\n",
        "print('Number of finished trials:', len(study.trials))\n",
        "print('Best trial:')\n",
        "trial = study.best_trial\n",
        "\n",
        "print('Metric:', trial.value)\n",
        "print(\"Best hyperparameters:\", trial.params)"
      ],
      "metadata": {
        "colab": {
          "base_uri": "https://localhost:8080/"
        },
        "id": "coBCudp2KMSF",
        "outputId": "7e2e38e7-ddc3-44bf-9940-923568909267"
      },
      "execution_count": 29,
      "outputs": [
        {
          "output_type": "stream",
          "name": "stderr",
          "text": [
            "[I 2024-04-22 18:52:22,260] A new study created in memory with name: no-name-8b70074b-8256-4338-9982-de53535d1fc6\n",
            "[I 2024-04-22 18:52:43,111] Trial 0 finished with value: 0.774871430838638 and parameters: {'learning_rate': 0.03069545240644376, 'n_estimators': 233, 'max_depth': 29, 'min_samples_split': 18, 'min_samples_leaf': 7}. Best is trial 0 with value: 0.774871430838638.\n",
            "[I 2024-04-22 18:52:50,962] Trial 1 finished with value: 0.7869680093414191 and parameters: {'learning_rate': 0.08299625695625935, 'n_estimators': 353, 'max_depth': 5, 'min_samples_split': 2, 'min_samples_leaf': 3}. Best is trial 1 with value: 0.7869680093414191.\n",
            "[I 2024-04-22 18:53:08,504] Trial 2 finished with value: 0.7646681210946853 and parameters: {'learning_rate': 0.09470694471043856, 'n_estimators': 348, 'max_depth': 18, 'min_samples_split': 15, 'min_samples_leaf': 3}. Best is trial 1 with value: 0.7869680093414191.\n",
            "[I 2024-04-22 18:53:14,747] Trial 3 finished with value: 0.7835810203710186 and parameters: {'learning_rate': 0.019161202285696986, 'n_estimators': 169, 'max_depth': 18, 'min_samples_split': 5, 'min_samples_leaf': 14}. Best is trial 1 with value: 0.7869680093414191.\n",
            "[I 2024-04-22 18:53:17,426] Trial 4 finished with value: 0.7672512948335113 and parameters: {'learning_rate': 0.8262958420897034, 'n_estimators': 449, 'max_depth': 2, 'min_samples_split': 17, 'min_samples_leaf': 9}. Best is trial 1 with value: 0.7869680093414191.\n",
            "[I 2024-04-22 18:53:29,901] Trial 5 finished with value: 0.7427975110004642 and parameters: {'learning_rate': 0.361011429233044, 'n_estimators': 383, 'max_depth': 22, 'min_samples_split': 2, 'min_samples_leaf': 1}. Best is trial 1 with value: 0.7869680093414191.\n",
            "[I 2024-04-22 18:53:42,533] Trial 6 finished with value: 0.7746736426377845 and parameters: {'learning_rate': 0.026209032816838066, 'n_estimators': 281, 'max_depth': 32, 'min_samples_split': 16, 'min_samples_leaf': 20}. Best is trial 1 with value: 0.7869680093414191.\n",
            "[I 2024-04-22 18:53:57,735] Trial 7 finished with value: 0.7680439695372939 and parameters: {'learning_rate': 0.20638211199243953, 'n_estimators': 326, 'max_depth': 21, 'min_samples_split': 10, 'min_samples_leaf': 14}. Best is trial 1 with value: 0.7869680093414191.\n",
            "[I 2024-04-22 18:54:02,291] Trial 8 finished with value: 0.7671169262437834 and parameters: {'learning_rate': 0.0214506248269637, 'n_estimators': 83, 'max_depth': 14, 'min_samples_split': 9, 'min_samples_leaf': 2}. Best is trial 1 with value: 0.7869680093414191.\n",
            "[I 2024-04-22 18:54:19,791] Trial 9 finished with value: 0.7754779076899557 and parameters: {'learning_rate': 0.010525160783225752, 'n_estimators': 351, 'max_depth': 22, 'min_samples_split': 16, 'min_samples_leaf': 3}. Best is trial 1 with value: 0.7869680093414191.\n",
            "[I 2024-04-22 18:54:22,649] Trial 10 finished with value: 0.7998068111500857 and parameters: {'learning_rate': 0.07707351354630762, 'n_estimators': 474, 'max_depth': 2, 'min_samples_split': 6, 'min_samples_leaf': 6}. Best is trial 10 with value: 0.7998068111500857.\n",
            "[I 2024-04-22 18:54:27,320] Trial 11 finished with value: 0.7947567436306023 and parameters: {'learning_rate': 0.07761764627991527, 'n_estimators': 498, 'max_depth': 3, 'min_samples_split': 5, 'min_samples_leaf': 6}. Best is trial 10 with value: 0.7998068111500857.\n",
            "[I 2024-04-22 18:54:41,640] Trial 12 finished with value: 0.7770379013541074 and parameters: {'learning_rate': 0.06675394896820969, 'n_estimators': 490, 'max_depth': 10, 'min_samples_split': 6, 'min_samples_leaf': 7}. Best is trial 10 with value: 0.7998068111500857.\n",
            "[I 2024-04-22 18:54:49,266] Trial 13 finished with value: 0.7597756056439954 and parameters: {'learning_rate': 0.2191372488167911, 'n_estimators': 440, 'max_depth': 7, 'min_samples_split': 6, 'min_samples_leaf': 6}. Best is trial 10 with value: 0.7998068111500857.\n",
            "[I 2024-04-22 18:54:51,227] Trial 14 finished with value: 0.8068385108811701 and parameters: {'learning_rate': 0.051660818550754835, 'n_estimators': 489, 'max_depth': 1, 'min_samples_split': 12, 'min_samples_leaf': 12}. Best is trial 14 with value: 0.8068385108811701.\n",
            "[I 2024-04-22 18:55:01,677] Trial 15 finished with value: 0.7734000022820278 and parameters: {'learning_rate': 0.04475988716033962, 'n_estimators': 414, 'max_depth': 10, 'min_samples_split': 13, 'min_samples_leaf': 13}. Best is trial 14 with value: 0.8068385108811701.\n",
            "[I 2024-04-22 18:55:11,120] Trial 16 finished with value: 0.7730536116436563 and parameters: {'learning_rate': 0.1451396323494063, 'n_estimators': 438, 'max_depth': 8, 'min_samples_split': 12, 'min_samples_leaf': 11}. Best is trial 14 with value: 0.8068385108811701.\n",
            "[I 2024-04-22 18:55:11,911] Trial 17 finished with value: 0.7882073990609831 and parameters: {'learning_rate': 0.05314270556561786, 'n_estimators': 201, 'max_depth': 1, 'min_samples_split': 8, 'min_samples_leaf': 18}. Best is trial 14 with value: 0.8068385108811701.\n",
            "[I 2024-04-22 18:55:26,026] Trial 18 finished with value: 0.7745598875429327 and parameters: {'learning_rate': 0.3977814166846687, 'n_estimators': 490, 'max_depth': 11, 'min_samples_split': 13, 'min_samples_leaf': 10}. Best is trial 14 with value: 0.8068385108811701.\n",
            "[I 2024-04-22 18:55:30,134] Trial 19 finished with value: 0.8003416446650125 and parameters: {'learning_rate': 0.03956188990824881, 'n_estimators': 286, 'max_depth': 5, 'min_samples_split': 20, 'min_samples_leaf': 17}. Best is trial 14 with value: 0.8068385108811701.\n",
            "[I 2024-04-22 18:55:33,135] Trial 20 finished with value: 0.7834502949022295 and parameters: {'learning_rate': 0.036867143164532525, 'n_estimators': 90, 'max_depth': 13, 'min_samples_split': 20, 'min_samples_leaf': 16}. Best is trial 14 with value: 0.8068385108811701.\n",
            "[I 2024-04-22 18:55:36,879] Trial 21 finished with value: 0.7876228841084671 and parameters: {'learning_rate': 0.13111420570485668, 'n_estimators': 292, 'max_depth': 5, 'min_samples_split': 20, 'min_samples_leaf': 16}. Best is trial 14 with value: 0.8068385108811701.\n",
            "[I 2024-04-22 18:55:38,446] Trial 22 finished with value: 0.7745306963287271 and parameters: {'learning_rate': 0.013966594428896879, 'n_estimators': 394, 'max_depth': 1, 'min_samples_split': 11, 'min_samples_leaf': 11}. Best is trial 14 with value: 0.8068385108811701.\n",
            "[I 2024-04-22 18:55:40,375] Trial 23 finished with value: 0.805993673837432 and parameters: {'learning_rate': 0.049647277366774566, 'n_estimators': 145, 'max_depth': 5, 'min_samples_split': 8, 'min_samples_leaf': 20}. Best is trial 14 with value: 0.8068385108811701.\n",
            "[I 2024-04-22 18:55:42,958] Trial 24 finished with value: 0.8006630243894339 and parameters: {'learning_rate': 0.05226645051417919, 'n_estimators': 137, 'max_depth': 6, 'min_samples_split': 8, 'min_samples_leaf': 20}. Best is trial 14 with value: 0.8068385108811701.\n",
            "[I 2024-04-22 18:55:45,655] Trial 25 finished with value: 0.78859703552766 and parameters: {'learning_rate': 0.11327953323715237, 'n_estimators': 130, 'max_depth': 7, 'min_samples_split': 8, 'min_samples_leaf': 20}. Best is trial 14 with value: 0.8068385108811701.\n",
            "[I 2024-04-22 18:55:47,073] Trial 26 finished with value: 0.8038461360168481 and parameters: {'learning_rate': 0.0592806501691308, 'n_estimators': 128, 'max_depth': 4, 'min_samples_split': 8, 'min_samples_leaf': 19}. Best is trial 14 with value: 0.8068385108811701.\n",
            "[I 2024-04-22 18:55:47,690] Trial 27 finished with value: 0.7999594110042755 and parameters: {'learning_rate': 0.054565377578572494, 'n_estimators': 50, 'max_depth': 4, 'min_samples_split': 10, 'min_samples_leaf': 18}. Best is trial 14 with value: 0.8068385108811701.\n",
            "[I 2024-04-22 18:55:52,743] Trial 28 finished with value: 0.7868470172601678 and parameters: {'learning_rate': 0.028144263607875752, 'n_estimators': 233, 'max_depth': 9, 'min_samples_split': 4, 'min_samples_leaf': 18}. Best is trial 14 with value: 0.8068385108811701.\n",
            "[I 2024-04-22 18:56:00,002] Trial 29 finished with value: 0.784064614435538 and parameters: {'learning_rate': 0.033802690467358114, 'n_estimators': 230, 'max_depth': 12, 'min_samples_split': 14, 'min_samples_leaf': 13}. Best is trial 14 with value: 0.8068385108811701.\n",
            "[I 2024-04-22 18:56:07,827] Trial 30 finished with value: 0.7745598875429327 and parameters: {'learning_rate': 0.1791955898559868, 'n_estimators': 149, 'max_depth': 26, 'min_samples_split': 11, 'min_samples_leaf': 15}. Best is trial 14 with value: 0.8068385108811701.\n",
            "[I 2024-04-22 18:56:10,141] Trial 31 finished with value: 0.7980250589061665 and parameters: {'learning_rate': 0.057424788104924115, 'n_estimators': 118, 'max_depth': 6, 'min_samples_split': 8, 'min_samples_leaf': 20}. Best is trial 14 with value: 0.8068385108811701.\n",
            "[I 2024-04-22 18:56:12,204] Trial 32 finished with value: 0.805993673837432 and parameters: {'learning_rate': 0.04610702532532751, 'n_estimators': 188, 'max_depth': 4, 'min_samples_split': 9, 'min_samples_leaf': 19}. Best is trial 14 with value: 0.8068385108811701.\n",
            "[I 2024-04-22 18:56:14,213] Trial 33 finished with value: 0.8016699888470934 and parameters: {'learning_rate': 0.08839984164755374, 'n_estimators': 186, 'max_depth': 4, 'min_samples_split': 10, 'min_samples_leaf': 19}. Best is trial 14 with value: 0.8068385108811701.\n",
            "[I 2024-04-22 18:56:22,585] Trial 34 finished with value: 0.7799161405954289 and parameters: {'learning_rate': 0.02949842250491018, 'n_estimators': 226, 'max_depth': 15, 'min_samples_split': 7, 'min_samples_leaf': 17}. Best is trial 14 with value: 0.8068385108811701.\n",
            "[I 2024-04-22 18:56:24,224] Trial 35 finished with value: 0.7870582833192581 and parameters: {'learning_rate': 0.016951765786002118, 'n_estimators': 174, 'max_depth': 3, 'min_samples_split': 12, 'min_samples_leaf': 19}. Best is trial 14 with value: 0.8068385108811701.\n",
            "[I 2024-04-22 18:56:24,800] Trial 36 finished with value: 0.7914992567739325 and parameters: {'learning_rate': 0.0998026434624745, 'n_estimators': 97, 'max_depth': 1, 'min_samples_split': 9, 'min_samples_leaf': 16}. Best is trial 14 with value: 0.8068385108811701.\n",
            "[I 2024-04-22 18:56:29,428] Trial 37 finished with value: 0.7899204892983032 and parameters: {'learning_rate': 0.023574076612862867, 'n_estimators': 206, 'max_depth': 8, 'min_samples_split': 3, 'min_samples_leaf': 19}. Best is trial 14 with value: 0.8068385108811701.\n",
            "[I 2024-04-22 18:56:30,759] Trial 38 finished with value: 0.7994643639132714 and parameters: {'learning_rate': 0.043348848280373796, 'n_estimators': 151, 'max_depth': 3, 'min_samples_split': 9, 'min_samples_leaf': 13}. Best is trial 14 with value: 0.8068385108811701.\n",
            "[I 2024-04-22 18:56:40,449] Trial 39 finished with value: 0.7782527964232935 and parameters: {'learning_rate': 0.07072627066766925, 'n_estimators': 247, 'max_depth': 17, 'min_samples_split': 7, 'min_samples_leaf': 15}. Best is trial 14 with value: 0.8068385108811701.\n",
            "[I 2024-04-22 18:56:53,042] Trial 40 finished with value: 0.7724481979638008 and parameters: {'learning_rate': 0.017452486438334726, 'n_estimators': 319, 'max_depth': 26, 'min_samples_split': 12, 'min_samples_leaf': 17}. Best is trial 14 with value: 0.8068385108811701.\n",
            "[I 2024-04-22 18:56:54,971] Trial 41 finished with value: 0.7998857163010116 and parameters: {'learning_rate': 0.09457027547204867, 'n_estimators': 180, 'max_depth': 4, 'min_samples_split': 10, 'min_samples_leaf': 19}. Best is trial 14 with value: 0.8068385108811701.\n",
            "[I 2024-04-22 18:56:57,498] Trial 42 finished with value: 0.7925285735179604 and parameters: {'learning_rate': 0.06755098765115307, 'n_estimators': 196, 'max_depth': 5, 'min_samples_split': 11, 'min_samples_leaf': 19}. Best is trial 14 with value: 0.8068385108811701.\n",
            "[I 2024-04-22 18:57:00,552] Trial 43 finished with value: 0.8000847370650341 and parameters: {'learning_rate': 0.04620590654890151, 'n_estimators': 260, 'max_depth': 3, 'min_samples_split': 10, 'min_samples_leaf': 18}. Best is trial 14 with value: 0.8068385108811701.\n",
            "[I 2024-04-22 18:57:00,988] Trial 44 finished with value: 0.7891493688268905 and parameters: {'learning_rate': 0.08530020665793377, 'n_estimators': 110, 'max_depth': 1, 'min_samples_split': 7, 'min_samples_leaf': 8}. Best is trial 14 with value: 0.8068385108811701.\n",
            "[I 2024-04-22 18:57:01,839] Trial 45 finished with value: 0.7715748001926414 and parameters: {'learning_rate': 0.8419416893189321, 'n_estimators': 54, 'max_depth': 6, 'min_samples_split': 15, 'min_samples_leaf': 20}. Best is trial 14 with value: 0.8068385108811701.\n",
            "[I 2024-04-22 18:57:07,924] Trial 46 finished with value: 0.7771038286429102 and parameters: {'learning_rate': 0.03237537702025703, 'n_estimators': 158, 'max_depth': 20, 'min_samples_split': 9, 'min_samples_leaf': 15}. Best is trial 14 with value: 0.8068385108811701.\n",
            "[I 2024-04-22 18:57:09,452] Trial 47 finished with value: 0.7866135459809274 and parameters: {'learning_rate': 0.12260844049683937, 'n_estimators': 73, 'max_depth': 8, 'min_samples_split': 13, 'min_samples_leaf': 4}. Best is trial 14 with value: 0.8068385108811701.\n",
            "[I 2024-04-22 18:57:11,914] Trial 48 finished with value: 0.7973274388414923 and parameters: {'learning_rate': 0.061126169677746534, 'n_estimators': 185, 'max_depth': 4, 'min_samples_split': 5, 'min_samples_leaf': 17}. Best is trial 14 with value: 0.8068385108811701.\n",
            "[I 2024-04-22 18:57:13,533] Trial 49 finished with value: 0.7950872415811653 and parameters: {'learning_rate': 0.15598371780259615, 'n_estimators': 216, 'max_depth': 2, 'min_samples_split': 11, 'min_samples_leaf': 19}. Best is trial 14 with value: 0.8068385108811701.\n",
            "[I 2024-04-22 18:57:16,427] Trial 50 finished with value: 0.7784537893701493 and parameters: {'learning_rate': 0.08706101293330461, 'n_estimators': 121, 'max_depth': 10, 'min_samples_split': 9, 'min_samples_leaf': 12}. Best is trial 14 with value: 0.8068385108811701.\n",
            "[I 2024-04-22 18:57:18,464] Trial 51 finished with value: 0.7991001613426231 and parameters: {'learning_rate': 0.045895505847304445, 'n_estimators': 134, 'max_depth': 6, 'min_samples_split': 8, 'min_samples_leaf': 20}. Best is trial 14 with value: 0.8068385108811701.\n",
            "[I 2024-04-22 18:57:20,972] Trial 52 finished with value: 0.7961673169826613 and parameters: {'learning_rate': 0.05320346823766258, 'n_estimators': 144, 'max_depth': 7, 'min_samples_split': 6, 'min_samples_leaf': 20}. Best is trial 14 with value: 0.8068385108811701.\n",
            "[I 2024-04-22 18:57:22,096] Trial 53 finished with value: 0.8032979877194287 and parameters: {'learning_rate': 0.037788643705878956, 'n_estimators': 102, 'max_depth': 4, 'min_samples_split': 7, 'min_samples_leaf': 18}. Best is trial 14 with value: 0.8068385108811701.\n",
            "[I 2024-04-22 18:57:23,241] Trial 54 finished with value: 0.7948634738137249 and parameters: {'learning_rate': 0.035816254013798385, 'n_estimators': 166, 'max_depth': 2, 'min_samples_split': 7, 'min_samples_leaf': 18}. Best is trial 14 with value: 0.8068385108811701.\n",
            "[I 2024-04-22 18:57:24,893] Trial 55 finished with value: 0.7982115738302923 and parameters: {'learning_rate': 0.025503179359874957, 'n_estimators': 104, 'max_depth': 4, 'min_samples_split': 10, 'min_samples_leaf': 9}. Best is trial 14 with value: 0.8068385108811701.\n",
            "[I 2024-04-22 18:57:25,583] Trial 56 finished with value: 0.7939880501387314 and parameters: {'learning_rate': 0.07866992349332907, 'n_estimators': 75, 'max_depth': 2, 'min_samples_split': 4, 'min_samples_leaf': 19}. Best is trial 14 with value: 0.8068385108811701.\n",
            "[I 2024-04-22 18:57:30,232] Trial 57 finished with value: 0.7941393311028004 and parameters: {'learning_rate': 0.04025477085584932, 'n_estimators': 365, 'max_depth': 5, 'min_samples_split': 6, 'min_samples_leaf': 17}. Best is trial 14 with value: 0.8068385108811701.\n",
            "[I 2024-04-22 18:57:37,356] Trial 58 finished with value: 0.7691678883204294 and parameters: {'learning_rate': 0.28294847623997793, 'n_estimators': 309, 'max_depth': 9, 'min_samples_split': 5, 'min_samples_leaf': 16}. Best is trial 14 with value: 0.8068385108811701.\n",
            "[I 2024-04-22 18:57:39,215] Trial 59 finished with value: 0.7940808562387671 and parameters: {'learning_rate': 0.02135486002413728, 'n_estimators': 188, 'max_depth': 3, 'min_samples_split': 10, 'min_samples_leaf': 18}. Best is trial 14 with value: 0.8068385108811701.\n",
            "[I 2024-04-22 18:57:42,070] Trial 60 finished with value: 0.7879827623295742 and parameters: {'learning_rate': 0.061688273486785634, 'n_estimators': 166, 'max_depth': 7, 'min_samples_split': 18, 'min_samples_leaf': 19}. Best is trial 14 with value: 0.8068385108811701.\n",
            "[I 2024-04-22 18:57:44,110] Trial 61 finished with value: 0.801187988205241 and parameters: {'learning_rate': 0.050708792928424465, 'n_estimators': 134, 'max_depth': 6, 'min_samples_split': 8, 'min_samples_leaf': 20}. Best is trial 14 with value: 0.8068385108811701.\n",
            "[I 2024-04-22 18:57:45,121] Trial 62 finished with value: 0.8069653457888014 and parameters: {'learning_rate': 0.047913404319099344, 'n_estimators': 89, 'max_depth': 4, 'min_samples_split': 8, 'min_samples_leaf': 20}. Best is trial 62 with value: 0.8069653457888014.\n",
            "[I 2024-04-22 18:57:45,480] Trial 63 finished with value: 0.7732184430248806 and parameters: {'learning_rate': 0.0710575074623814, 'n_estimators': 89, 'max_depth': 1, 'min_samples_split': 9, 'min_samples_leaf': 18}. Best is trial 62 with value: 0.8069653457888014.\n",
            "[I 2024-04-22 18:57:49,256] Trial 64 finished with value: 0.7818670636186597 and parameters: {'learning_rate': 0.10636322488827638, 'n_estimators': 74, 'max_depth': 32, 'min_samples_split': 7, 'min_samples_leaf': 14}. Best is trial 62 with value: 0.8069653457888014.\n",
            "[I 2024-04-22 18:57:50,969] Trial 65 finished with value: 0.8050191489153196 and parameters: {'learning_rate': 0.037650930328276294, 'n_estimators': 115, 'max_depth': 4, 'min_samples_split': 8, 'min_samples_leaf': 19}. Best is trial 62 with value: 0.8069653457888014.\n",
            "[I 2024-04-22 18:57:51,947] Trial 66 finished with value: 0.7775577859199773 and parameters: {'learning_rate': 0.5492397002338684, 'n_estimators': 115, 'max_depth': 3, 'min_samples_split': 8, 'min_samples_leaf': 20}. Best is trial 62 with value: 0.8069653457888014.\n",
            "[I 2024-04-22 18:57:52,802] Trial 67 finished with value: 0.7889161601005219 and parameters: {'learning_rate': 0.03003816588767506, 'n_estimators': 63, 'max_depth': 5, 'min_samples_split': 7, 'min_samples_leaf': 18}. Best is trial 62 with value: 0.8069653457888014.\n",
            "[I 2024-04-22 18:57:53,470] Trial 68 finished with value: 0.7864788437128526 and parameters: {'learning_rate': 0.0357818647518386, 'n_estimators': 100, 'max_depth': 2, 'min_samples_split': 9, 'min_samples_leaf': 1}. Best is trial 62 with value: 0.8069653457888014.\n",
            "[I 2024-04-22 18:57:55,549] Trial 69 finished with value: 0.7880755569046833 and parameters: {'learning_rate': 0.0409443679432613, 'n_estimators': 93, 'max_depth': 9, 'min_samples_split': 6, 'min_samples_leaf': 17}. Best is trial 62 with value: 0.8069653457888014.\n",
            "[I 2024-04-22 18:58:09,256] Trial 70 finished with value: 0.7755613311643997 and parameters: {'learning_rate': 0.04702880634048785, 'n_estimators': 415, 'max_depth': 12, 'min_samples_split': 8, 'min_samples_leaf': 4}. Best is trial 62 with value: 0.8069653457888014.\n",
            "[I 2024-04-22 18:58:10,626] Trial 71 finished with value: 0.8057165731825554 and parameters: {'learning_rate': 0.057620423231569004, 'n_estimators': 126, 'max_depth': 4, 'min_samples_split': 11, 'min_samples_leaf': 19}. Best is trial 62 with value: 0.8069653457888014.\n",
            "[I 2024-04-22 18:58:12,274] Trial 72 finished with value: 0.8022063370121898 and parameters: {'learning_rate': 0.06066833540953097, 'n_estimators': 127, 'max_depth': 5, 'min_samples_split': 12, 'min_samples_leaf': 19}. Best is trial 62 with value: 0.8069653457888014.\n",
            "[I 2024-04-22 18:58:13,492] Trial 73 finished with value: 0.8020536606858949 and parameters: {'learning_rate': 0.039098989146534736, 'n_estimators': 110, 'max_depth': 4, 'min_samples_split': 11, 'min_samples_leaf': 20}. Best is trial 62 with value: 0.8069653457888014.\n",
            "[I 2024-04-22 18:58:18,081] Trial 74 finished with value: 0.7998068111500857 and parameters: {'learning_rate': 0.03153319197970655, 'n_estimators': 463, 'max_depth': 3, 'min_samples_split': 8, 'min_samples_leaf': 19}. Best is trial 62 with value: 0.8069653457888014.\n",
            "[I 2024-04-22 18:58:18,428] Trial 75 finished with value: 0.7368804552465068 and parameters: {'learning_rate': 0.025816751035366646, 'n_estimators': 83, 'max_depth': 1, 'min_samples_split': 14, 'min_samples_leaf': 18}. Best is trial 62 with value: 0.8069653457888014.\n",
            "[I 2024-04-22 18:58:21,098] Trial 76 finished with value: 0.7971752044664062 and parameters: {'learning_rate': 0.05058265543922747, 'n_estimators': 153, 'max_depth': 7, 'min_samples_split': 6, 'min_samples_leaf': 20}. Best is trial 62 with value: 0.8069653457888014.\n",
            "[I 2024-04-22 18:58:22,955] Trial 77 finished with value: 0.8032777969493504 and parameters: {'learning_rate': 0.059590206857827815, 'n_estimators': 142, 'max_depth': 5, 'min_samples_split': 9, 'min_samples_leaf': 17}. Best is trial 62 with value: 0.8069653457888014.\n",
            "[I 2024-04-22 18:58:23,722] Trial 78 finished with value: 0.8026009490945494 and parameters: {'learning_rate': 0.07302472805038512, 'n_estimators': 122, 'max_depth': 2, 'min_samples_split': 11, 'min_samples_leaf': 16}. Best is trial 62 with value: 0.8069653457888014.\n",
            "[I 2024-04-22 18:58:24,431] Trial 79 finished with value: 0.7997063029130308 and parameters: {'learning_rate': 0.042924597645379724, 'n_estimators': 63, 'max_depth': 4, 'min_samples_split': 13, 'min_samples_leaf': 19}. Best is trial 62 with value: 0.8069653457888014.\n",
            "[I 2024-04-22 18:58:31,279] Trial 80 finished with value: 0.774871430838638 and parameters: {'learning_rate': 0.022354264970410362, 'n_estimators': 157, 'max_depth': 24, 'min_samples_split': 12, 'min_samples_leaf': 10}. Best is trial 62 with value: 0.8069653457888014.\n",
            "[I 2024-04-22 18:58:33,507] Trial 81 finished with value: 0.7986449493615771 and parameters: {'learning_rate': 0.057667923564417196, 'n_estimators': 144, 'max_depth': 6, 'min_samples_split': 9, 'min_samples_leaf': 18}. Best is trial 62 with value: 0.8069653457888014.\n",
            "[I 2024-04-22 18:58:34,664] Trial 82 finished with value: 0.8046973501563471 and parameters: {'learning_rate': 0.06322102134001266, 'n_estimators': 104, 'max_depth': 4, 'min_samples_split': 7, 'min_samples_leaf': 17}. Best is trial 62 with value: 0.8069653457888014.\n",
            "[I 2024-04-22 18:58:39,116] Trial 83 finished with value: 0.7834525916259227 and parameters: {'learning_rate': 0.06583092266682378, 'n_estimators': 107, 'max_depth': 30, 'min_samples_split': 7, 'min_samples_leaf': 20}. Best is trial 62 with value: 0.8069653457888014.\n",
            "[I 2024-04-22 18:58:40,632] Trial 84 finished with value: 0.8003289007416088 and parameters: {'learning_rate': 0.04899032072649333, 'n_estimators': 125, 'max_depth': 3, 'min_samples_split': 8, 'min_samples_leaf': 19}. Best is trial 62 with value: 0.8069653457888014.\n",
            "[I 2024-04-22 18:58:42,561] Trial 85 finished with value: 0.7915331878119983 and parameters: {'learning_rate': 0.03773648268332567, 'n_estimators': 85, 'max_depth': 8, 'min_samples_split': 7, 'min_samples_leaf': 12}. Best is trial 62 with value: 0.8069653457888014.\n",
            "[I 2024-04-22 18:58:43,661] Trial 86 finished with value: 0.8019480934602126 and parameters: {'learning_rate': 0.03309940126273966, 'n_estimators': 100, 'max_depth': 4, 'min_samples_split': 4, 'min_samples_leaf': 17}. Best is trial 62 with value: 0.8069653457888014.\n",
            "[I 2024-04-22 18:58:45,267] Trial 87 finished with value: 0.8014320497322519 and parameters: {'learning_rate': 0.027563431510794496, 'n_estimators': 262, 'max_depth': 2, 'min_samples_split': 10, 'min_samples_leaf': 18}. Best is trial 62 with value: 0.8069653457888014.\n",
            "[I 2024-04-22 18:58:48,892] Trial 88 finished with value: 0.7740847609746919 and parameters: {'learning_rate': 0.08110666422489032, 'n_estimators': 115, 'max_depth': 15, 'min_samples_split': 5, 'min_samples_leaf': 15}. Best is trial 62 with value: 0.8069653457888014.\n",
            "[I 2024-04-22 18:58:51,070] Trial 89 finished with value: 0.7998857163010116 and parameters: {'learning_rate': 0.05509730943704496, 'n_estimators': 169, 'max_depth': 5, 'min_samples_split': 7, 'min_samples_leaf': 19}. Best is trial 62 with value: 0.8069653457888014.\n",
            "[I 2024-04-22 18:58:54,123] Trial 90 finished with value: 0.7998857163010116 and parameters: {'learning_rate': 0.04530777525801788, 'n_estimators': 136, 'max_depth': 6, 'min_samples_split': 8, 'min_samples_leaf': 16}. Best is trial 62 with value: 0.8069653457888014.\n",
            "[I 2024-04-22 18:58:56,511] Trial 91 finished with value: 0.7952353128667341 and parameters: {'learning_rate': 0.06144131131776118, 'n_estimators': 95, 'max_depth': 7, 'min_samples_split': 9, 'min_samples_leaf': 17}. Best is trial 62 with value: 0.8069653457888014.\n",
            "[I 2024-04-22 18:58:58,010] Trial 92 finished with value: 0.8045239289422609 and parameters: {'learning_rate': 0.06562039935396306, 'n_estimators': 140, 'max_depth': 4, 'min_samples_split': 10, 'min_samples_leaf': 19}. Best is trial 62 with value: 0.8069653457888014.\n",
            "[I 2024-04-22 18:58:59,141] Trial 93 finished with value: 0.8016699888470934 and parameters: {'learning_rate': 0.06807015964770217, 'n_estimators': 128, 'max_depth': 3, 'min_samples_split': 10, 'min_samples_leaf': 20}. Best is trial 62 with value: 0.8069653457888014.\n",
            "[I 2024-04-22 18:59:02,817] Trial 94 finished with value: 0.7970907385421867 and parameters: {'learning_rate': 0.041998344369187715, 'n_estimators': 337, 'max_depth': 4, 'min_samples_split': 11, 'min_samples_leaf': 19}. Best is trial 62 with value: 0.8069653457888014.\n",
            "[I 2024-04-22 18:59:03,132] Trial 95 finished with value: 0.7708480568080507 and parameters: {'learning_rate': 0.07660487620189498, 'n_estimators': 65, 'max_depth': 1, 'min_samples_split': 10, 'min_samples_leaf': 18}. Best is trial 62 with value: 0.8069653457888014.\n",
            "[I 2024-04-22 18:59:03,717] Trial 96 finished with value: 0.8004275167809641 and parameters: {'learning_rate': 0.09271544313587327, 'n_estimators': 82, 'max_depth': 2, 'min_samples_split': 6, 'min_samples_leaf': 20}. Best is trial 62 with value: 0.8069653457888014.\n",
            "[I 2024-04-22 18:59:05,620] Trial 97 finished with value: 0.8008108021306335 and parameters: {'learning_rate': 0.051073655944605924, 'n_estimators': 160, 'max_depth': 3, 'min_samples_split': 8, 'min_samples_leaf': 7}. Best is trial 62 with value: 0.8069653457888014.\n",
            "[I 2024-04-22 18:59:07,737] Trial 98 finished with value: 0.7978488809727247 and parameters: {'learning_rate': 0.03619576912114808, 'n_estimators': 115, 'max_depth': 6, 'min_samples_split': 9, 'min_samples_leaf': 19}. Best is trial 62 with value: 0.8069653457888014.\n",
            "[I 2024-04-22 18:59:10,475] Trial 99 finished with value: 0.7954714306311811 and parameters: {'learning_rate': 0.06434236281002674, 'n_estimators': 207, 'max_depth': 5, 'min_samples_split': 7, 'min_samples_leaf': 20}. Best is trial 62 with value: 0.8069653457888014.\n"
          ]
        },
        {
          "output_type": "stream",
          "name": "stdout",
          "text": [
            "Number of finished trials: 100\n",
            "Best trial:\n",
            "Metric: 0.8069653457888014\n",
            "Best hyperparameters: {'learning_rate': 0.047913404319099344, 'n_estimators': 89, 'max_depth': 4, 'min_samples_split': 8, 'min_samples_leaf': 20}\n"
          ]
        }
      ]
    },
    {
      "cell_type": "code",
      "source": [
        "optuna.visualization.plot_optimization_history(study)"
      ],
      "metadata": {
        "colab": {
          "base_uri": "https://localhost:8080/",
          "height": 542
        },
        "id": "PQWctsjcKTer",
        "outputId": "743fce4a-5613-48a0-c1fc-f904f063463b"
      },
      "execution_count": 30,
      "outputs": [
        {
          "output_type": "display_data",
          "data": {
            "text/html": [
              "<html>\n",
              "<head><meta charset=\"utf-8\" /></head>\n",
              "<body>\n",
              "    <div>            <script src=\"https://cdnjs.cloudflare.com/ajax/libs/mathjax/2.7.5/MathJax.js?config=TeX-AMS-MML_SVG\"></script><script type=\"text/javascript\">if (window.MathJax && window.MathJax.Hub && window.MathJax.Hub.Config) {window.MathJax.Hub.Config({SVG: {font: \"STIX-Web\"}});}</script>                <script type=\"text/javascript\">window.PlotlyConfig = {MathJaxConfig: 'local'};</script>\n",
              "        <script charset=\"utf-8\" src=\"https://cdn.plot.ly/plotly-2.24.1.min.js\"></script>                <div id=\"6934eb52-27bf-4d58-bb92-44aeff3ee8bf\" class=\"plotly-graph-div\" style=\"height:525px; width:100%;\"></div>            <script type=\"text/javascript\">                                    window.PLOTLYENV=window.PLOTLYENV || {};                                    if (document.getElementById(\"6934eb52-27bf-4d58-bb92-44aeff3ee8bf\")) {                    Plotly.newPlot(                        \"6934eb52-27bf-4d58-bb92-44aeff3ee8bf\",                        [{\"mode\":\"markers\",\"name\":\"Objective Value\",\"x\":[0,1,2,3,4,5,6,7,8,9,10,11,12,13,14,15,16,17,18,19,20,21,22,23,24,25,26,27,28,29,30,31,32,33,34,35,36,37,38,39,40,41,42,43,44,45,46,47,48,49,50,51,52,53,54,55,56,57,58,59,60,61,62,63,64,65,66,67,68,69,70,71,72,73,74,75,76,77,78,79,80,81,82,83,84,85,86,87,88,89,90,91,92,93,94,95,96,97,98,99],\"y\":[0.774871430838638,0.7869680093414191,0.7646681210946853,0.7835810203710186,0.7672512948335113,0.7427975110004642,0.7746736426377845,0.7680439695372939,0.7671169262437834,0.7754779076899557,0.7998068111500857,0.7947567436306023,0.7770379013541074,0.7597756056439954,0.8068385108811701,0.7734000022820278,0.7730536116436563,0.7882073990609831,0.7745598875429327,0.8003416446650125,0.7834502949022295,0.7876228841084671,0.7745306963287271,0.805993673837432,0.8006630243894339,0.78859703552766,0.8038461360168481,0.7999594110042755,0.7868470172601678,0.784064614435538,0.7745598875429327,0.7980250589061665,0.805993673837432,0.8016699888470934,0.7799161405954289,0.7870582833192581,0.7914992567739325,0.7899204892983032,0.7994643639132714,0.7782527964232935,0.7724481979638008,0.7998857163010116,0.7925285735179604,0.8000847370650341,0.7891493688268905,0.7715748001926414,0.7771038286429102,0.7866135459809274,0.7973274388414923,0.7950872415811653,0.7784537893701493,0.7991001613426231,0.7961673169826613,0.8032979877194287,0.7948634738137249,0.7982115738302923,0.7939880501387314,0.7941393311028004,0.7691678883204294,0.7940808562387671,0.7879827623295742,0.801187988205241,0.8069653457888014,0.7732184430248806,0.7818670636186597,0.8050191489153196,0.7775577859199773,0.7889161601005219,0.7864788437128526,0.7880755569046833,0.7755613311643997,0.8057165731825554,0.8022063370121898,0.8020536606858949,0.7998068111500857,0.7368804552465068,0.7971752044664062,0.8032777969493504,0.8026009490945494,0.7997063029130308,0.774871430838638,0.7986449493615771,0.8046973501563471,0.7834525916259227,0.8003289007416088,0.7915331878119983,0.8019480934602126,0.8014320497322519,0.7740847609746919,0.7998857163010116,0.7998857163010116,0.7952353128667341,0.8045239289422609,0.8016699888470934,0.7970907385421867,0.7708480568080507,0.8004275167809641,0.8008108021306335,0.7978488809727247,0.7954714306311811],\"type\":\"scatter\"},{\"mode\":\"lines\",\"name\":\"Best Value\",\"x\":[0,1,2,3,4,5,6,7,8,9,10,11,12,13,14,15,16,17,18,19,20,21,22,23,24,25,26,27,28,29,30,31,32,33,34,35,36,37,38,39,40,41,42,43,44,45,46,47,48,49,50,51,52,53,54,55,56,57,58,59,60,61,62,63,64,65,66,67,68,69,70,71,72,73,74,75,76,77,78,79,80,81,82,83,84,85,86,87,88,89,90,91,92,93,94,95,96,97,98,99],\"y\":[0.774871430838638,0.7869680093414191,0.7869680093414191,0.7869680093414191,0.7869680093414191,0.7869680093414191,0.7869680093414191,0.7869680093414191,0.7869680093414191,0.7869680093414191,0.7998068111500857,0.7998068111500857,0.7998068111500857,0.7998068111500857,0.8068385108811701,0.8068385108811701,0.8068385108811701,0.8068385108811701,0.8068385108811701,0.8068385108811701,0.8068385108811701,0.8068385108811701,0.8068385108811701,0.8068385108811701,0.8068385108811701,0.8068385108811701,0.8068385108811701,0.8068385108811701,0.8068385108811701,0.8068385108811701,0.8068385108811701,0.8068385108811701,0.8068385108811701,0.8068385108811701,0.8068385108811701,0.8068385108811701,0.8068385108811701,0.8068385108811701,0.8068385108811701,0.8068385108811701,0.8068385108811701,0.8068385108811701,0.8068385108811701,0.8068385108811701,0.8068385108811701,0.8068385108811701,0.8068385108811701,0.8068385108811701,0.8068385108811701,0.8068385108811701,0.8068385108811701,0.8068385108811701,0.8068385108811701,0.8068385108811701,0.8068385108811701,0.8068385108811701,0.8068385108811701,0.8068385108811701,0.8068385108811701,0.8068385108811701,0.8068385108811701,0.8068385108811701,0.8069653457888014,0.8069653457888014,0.8069653457888014,0.8069653457888014,0.8069653457888014,0.8069653457888014,0.8069653457888014,0.8069653457888014,0.8069653457888014,0.8069653457888014,0.8069653457888014,0.8069653457888014,0.8069653457888014,0.8069653457888014,0.8069653457888014,0.8069653457888014,0.8069653457888014,0.8069653457888014,0.8069653457888014,0.8069653457888014,0.8069653457888014,0.8069653457888014,0.8069653457888014,0.8069653457888014,0.8069653457888014,0.8069653457888014,0.8069653457888014,0.8069653457888014,0.8069653457888014,0.8069653457888014,0.8069653457888014,0.8069653457888014,0.8069653457888014,0.8069653457888014,0.8069653457888014,0.8069653457888014,0.8069653457888014,0.8069653457888014],\"type\":\"scatter\"},{\"marker\":{\"color\":\"#cccccc\"},\"mode\":\"markers\",\"name\":\"Infeasible Trial\",\"showlegend\":false,\"x\":[],\"y\":[],\"type\":\"scatter\"}],                        {\"title\":{\"text\":\"Optimization History Plot\"},\"xaxis\":{\"title\":{\"text\":\"Trial\"}},\"yaxis\":{\"title\":{\"text\":\"Objective Value\"}},\"template\":{\"data\":{\"histogram2dcontour\":[{\"type\":\"histogram2dcontour\",\"colorbar\":{\"outlinewidth\":0,\"ticks\":\"\"},\"colorscale\":[[0.0,\"#0d0887\"],[0.1111111111111111,\"#46039f\"],[0.2222222222222222,\"#7201a8\"],[0.3333333333333333,\"#9c179e\"],[0.4444444444444444,\"#bd3786\"],[0.5555555555555556,\"#d8576b\"],[0.6666666666666666,\"#ed7953\"],[0.7777777777777778,\"#fb9f3a\"],[0.8888888888888888,\"#fdca26\"],[1.0,\"#f0f921\"]]}],\"choropleth\":[{\"type\":\"choropleth\",\"colorbar\":{\"outlinewidth\":0,\"ticks\":\"\"}}],\"histogram2d\":[{\"type\":\"histogram2d\",\"colorbar\":{\"outlinewidth\":0,\"ticks\":\"\"},\"colorscale\":[[0.0,\"#0d0887\"],[0.1111111111111111,\"#46039f\"],[0.2222222222222222,\"#7201a8\"],[0.3333333333333333,\"#9c179e\"],[0.4444444444444444,\"#bd3786\"],[0.5555555555555556,\"#d8576b\"],[0.6666666666666666,\"#ed7953\"],[0.7777777777777778,\"#fb9f3a\"],[0.8888888888888888,\"#fdca26\"],[1.0,\"#f0f921\"]]}],\"heatmap\":[{\"type\":\"heatmap\",\"colorbar\":{\"outlinewidth\":0,\"ticks\":\"\"},\"colorscale\":[[0.0,\"#0d0887\"],[0.1111111111111111,\"#46039f\"],[0.2222222222222222,\"#7201a8\"],[0.3333333333333333,\"#9c179e\"],[0.4444444444444444,\"#bd3786\"],[0.5555555555555556,\"#d8576b\"],[0.6666666666666666,\"#ed7953\"],[0.7777777777777778,\"#fb9f3a\"],[0.8888888888888888,\"#fdca26\"],[1.0,\"#f0f921\"]]}],\"heatmapgl\":[{\"type\":\"heatmapgl\",\"colorbar\":{\"outlinewidth\":0,\"ticks\":\"\"},\"colorscale\":[[0.0,\"#0d0887\"],[0.1111111111111111,\"#46039f\"],[0.2222222222222222,\"#7201a8\"],[0.3333333333333333,\"#9c179e\"],[0.4444444444444444,\"#bd3786\"],[0.5555555555555556,\"#d8576b\"],[0.6666666666666666,\"#ed7953\"],[0.7777777777777778,\"#fb9f3a\"],[0.8888888888888888,\"#fdca26\"],[1.0,\"#f0f921\"]]}],\"contourcarpet\":[{\"type\":\"contourcarpet\",\"colorbar\":{\"outlinewidth\":0,\"ticks\":\"\"}}],\"contour\":[{\"type\":\"contour\",\"colorbar\":{\"outlinewidth\":0,\"ticks\":\"\"},\"colorscale\":[[0.0,\"#0d0887\"],[0.1111111111111111,\"#46039f\"],[0.2222222222222222,\"#7201a8\"],[0.3333333333333333,\"#9c179e\"],[0.4444444444444444,\"#bd3786\"],[0.5555555555555556,\"#d8576b\"],[0.6666666666666666,\"#ed7953\"],[0.7777777777777778,\"#fb9f3a\"],[0.8888888888888888,\"#fdca26\"],[1.0,\"#f0f921\"]]}],\"surface\":[{\"type\":\"surface\",\"colorbar\":{\"outlinewidth\":0,\"ticks\":\"\"},\"colorscale\":[[0.0,\"#0d0887\"],[0.1111111111111111,\"#46039f\"],[0.2222222222222222,\"#7201a8\"],[0.3333333333333333,\"#9c179e\"],[0.4444444444444444,\"#bd3786\"],[0.5555555555555556,\"#d8576b\"],[0.6666666666666666,\"#ed7953\"],[0.7777777777777778,\"#fb9f3a\"],[0.8888888888888888,\"#fdca26\"],[1.0,\"#f0f921\"]]}],\"mesh3d\":[{\"type\":\"mesh3d\",\"colorbar\":{\"outlinewidth\":0,\"ticks\":\"\"}}],\"scatter\":[{\"fillpattern\":{\"fillmode\":\"overlay\",\"size\":10,\"solidity\":0.2},\"type\":\"scatter\"}],\"parcoords\":[{\"type\":\"parcoords\",\"line\":{\"colorbar\":{\"outlinewidth\":0,\"ticks\":\"\"}}}],\"scatterpolargl\":[{\"type\":\"scatterpolargl\",\"marker\":{\"colorbar\":{\"outlinewidth\":0,\"ticks\":\"\"}}}],\"bar\":[{\"error_x\":{\"color\":\"#2a3f5f\"},\"error_y\":{\"color\":\"#2a3f5f\"},\"marker\":{\"line\":{\"color\":\"#E5ECF6\",\"width\":0.5},\"pattern\":{\"fillmode\":\"overlay\",\"size\":10,\"solidity\":0.2}},\"type\":\"bar\"}],\"scattergeo\":[{\"type\":\"scattergeo\",\"marker\":{\"colorbar\":{\"outlinewidth\":0,\"ticks\":\"\"}}}],\"scatterpolar\":[{\"type\":\"scatterpolar\",\"marker\":{\"colorbar\":{\"outlinewidth\":0,\"ticks\":\"\"}}}],\"histogram\":[{\"marker\":{\"pattern\":{\"fillmode\":\"overlay\",\"size\":10,\"solidity\":0.2}},\"type\":\"histogram\"}],\"scattergl\":[{\"type\":\"scattergl\",\"marker\":{\"colorbar\":{\"outlinewidth\":0,\"ticks\":\"\"}}}],\"scatter3d\":[{\"type\":\"scatter3d\",\"line\":{\"colorbar\":{\"outlinewidth\":0,\"ticks\":\"\"}},\"marker\":{\"colorbar\":{\"outlinewidth\":0,\"ticks\":\"\"}}}],\"scattermapbox\":[{\"type\":\"scattermapbox\",\"marker\":{\"colorbar\":{\"outlinewidth\":0,\"ticks\":\"\"}}}],\"scatterternary\":[{\"type\":\"scatterternary\",\"marker\":{\"colorbar\":{\"outlinewidth\":0,\"ticks\":\"\"}}}],\"scattercarpet\":[{\"type\":\"scattercarpet\",\"marker\":{\"colorbar\":{\"outlinewidth\":0,\"ticks\":\"\"}}}],\"carpet\":[{\"aaxis\":{\"endlinecolor\":\"#2a3f5f\",\"gridcolor\":\"white\",\"linecolor\":\"white\",\"minorgridcolor\":\"white\",\"startlinecolor\":\"#2a3f5f\"},\"baxis\":{\"endlinecolor\":\"#2a3f5f\",\"gridcolor\":\"white\",\"linecolor\":\"white\",\"minorgridcolor\":\"white\",\"startlinecolor\":\"#2a3f5f\"},\"type\":\"carpet\"}],\"table\":[{\"cells\":{\"fill\":{\"color\":\"#EBF0F8\"},\"line\":{\"color\":\"white\"}},\"header\":{\"fill\":{\"color\":\"#C8D4E3\"},\"line\":{\"color\":\"white\"}},\"type\":\"table\"}],\"barpolar\":[{\"marker\":{\"line\":{\"color\":\"#E5ECF6\",\"width\":0.5},\"pattern\":{\"fillmode\":\"overlay\",\"size\":10,\"solidity\":0.2}},\"type\":\"barpolar\"}],\"pie\":[{\"automargin\":true,\"type\":\"pie\"}]},\"layout\":{\"autotypenumbers\":\"strict\",\"colorway\":[\"#636efa\",\"#EF553B\",\"#00cc96\",\"#ab63fa\",\"#FFA15A\",\"#19d3f3\",\"#FF6692\",\"#B6E880\",\"#FF97FF\",\"#FECB52\"],\"font\":{\"color\":\"#2a3f5f\"},\"hovermode\":\"closest\",\"hoverlabel\":{\"align\":\"left\"},\"paper_bgcolor\":\"white\",\"plot_bgcolor\":\"#E5ECF6\",\"polar\":{\"bgcolor\":\"#E5ECF6\",\"angularaxis\":{\"gridcolor\":\"white\",\"linecolor\":\"white\",\"ticks\":\"\"},\"radialaxis\":{\"gridcolor\":\"white\",\"linecolor\":\"white\",\"ticks\":\"\"}},\"ternary\":{\"bgcolor\":\"#E5ECF6\",\"aaxis\":{\"gridcolor\":\"white\",\"linecolor\":\"white\",\"ticks\":\"\"},\"baxis\":{\"gridcolor\":\"white\",\"linecolor\":\"white\",\"ticks\":\"\"},\"caxis\":{\"gridcolor\":\"white\",\"linecolor\":\"white\",\"ticks\":\"\"}},\"coloraxis\":{\"colorbar\":{\"outlinewidth\":0,\"ticks\":\"\"}},\"colorscale\":{\"sequential\":[[0.0,\"#0d0887\"],[0.1111111111111111,\"#46039f\"],[0.2222222222222222,\"#7201a8\"],[0.3333333333333333,\"#9c179e\"],[0.4444444444444444,\"#bd3786\"],[0.5555555555555556,\"#d8576b\"],[0.6666666666666666,\"#ed7953\"],[0.7777777777777778,\"#fb9f3a\"],[0.8888888888888888,\"#fdca26\"],[1.0,\"#f0f921\"]],\"sequentialminus\":[[0.0,\"#0d0887\"],[0.1111111111111111,\"#46039f\"],[0.2222222222222222,\"#7201a8\"],[0.3333333333333333,\"#9c179e\"],[0.4444444444444444,\"#bd3786\"],[0.5555555555555556,\"#d8576b\"],[0.6666666666666666,\"#ed7953\"],[0.7777777777777778,\"#fb9f3a\"],[0.8888888888888888,\"#fdca26\"],[1.0,\"#f0f921\"]],\"diverging\":[[0,\"#8e0152\"],[0.1,\"#c51b7d\"],[0.2,\"#de77ae\"],[0.3,\"#f1b6da\"],[0.4,\"#fde0ef\"],[0.5,\"#f7f7f7\"],[0.6,\"#e6f5d0\"],[0.7,\"#b8e186\"],[0.8,\"#7fbc41\"],[0.9,\"#4d9221\"],[1,\"#276419\"]]},\"xaxis\":{\"gridcolor\":\"white\",\"linecolor\":\"white\",\"ticks\":\"\",\"title\":{\"standoff\":15},\"zerolinecolor\":\"white\",\"automargin\":true,\"zerolinewidth\":2},\"yaxis\":{\"gridcolor\":\"white\",\"linecolor\":\"white\",\"ticks\":\"\",\"title\":{\"standoff\":15},\"zerolinecolor\":\"white\",\"automargin\":true,\"zerolinewidth\":2},\"scene\":{\"xaxis\":{\"backgroundcolor\":\"#E5ECF6\",\"gridcolor\":\"white\",\"linecolor\":\"white\",\"showbackground\":true,\"ticks\":\"\",\"zerolinecolor\":\"white\",\"gridwidth\":2},\"yaxis\":{\"backgroundcolor\":\"#E5ECF6\",\"gridcolor\":\"white\",\"linecolor\":\"white\",\"showbackground\":true,\"ticks\":\"\",\"zerolinecolor\":\"white\",\"gridwidth\":2},\"zaxis\":{\"backgroundcolor\":\"#E5ECF6\",\"gridcolor\":\"white\",\"linecolor\":\"white\",\"showbackground\":true,\"ticks\":\"\",\"zerolinecolor\":\"white\",\"gridwidth\":2}},\"shapedefaults\":{\"line\":{\"color\":\"#2a3f5f\"}},\"annotationdefaults\":{\"arrowcolor\":\"#2a3f5f\",\"arrowhead\":0,\"arrowwidth\":1},\"geo\":{\"bgcolor\":\"white\",\"landcolor\":\"#E5ECF6\",\"subunitcolor\":\"white\",\"showland\":true,\"showlakes\":true,\"lakecolor\":\"white\"},\"title\":{\"x\":0.05},\"mapbox\":{\"style\":\"light\"}}}},                        {\"responsive\": true}                    ).then(function(){\n",
              "                            \n",
              "var gd = document.getElementById('6934eb52-27bf-4d58-bb92-44aeff3ee8bf');\n",
              "var x = new MutationObserver(function (mutations, observer) {{\n",
              "        var display = window.getComputedStyle(gd).display;\n",
              "        if (!display || display === 'none') {{\n",
              "            console.log([gd, 'removed!']);\n",
              "            Plotly.purge(gd);\n",
              "            observer.disconnect();\n",
              "        }}\n",
              "}});\n",
              "\n",
              "// Listen for the removal of the full notebook cells\n",
              "var notebookContainer = gd.closest('#notebook-container');\n",
              "if (notebookContainer) {{\n",
              "    x.observe(notebookContainer, {childList: true});\n",
              "}}\n",
              "\n",
              "// Listen for the clearing of the current output cell\n",
              "var outputEl = gd.closest('.output');\n",
              "if (outputEl) {{\n",
              "    x.observe(outputEl, {childList: true});\n",
              "}}\n",
              "\n",
              "                        })                };                            </script>        </div>\n",
              "</body>\n",
              "</html>"
            ]
          },
          "metadata": {}
        }
      ]
    },
    {
      "cell_type": "code",
      "source": [
        "model = GradientBoostingClassifier(\n",
        "        learning_rate=trial.params['learning_rate'],\n",
        "        n_estimators=trial.params['n_estimators'],\n",
        "        max_depth=trial.params['max_depth'],\n",
        "        min_samples_split=trial.params['min_samples_split'],\n",
        "        min_samples_leaf=trial.params['min_samples_leaf'],\n",
        "        random_state=seed\n",
        "    )\n",
        "\n",
        "# Train the model\n",
        "model.fit(X_train, y_train)\n",
        "\n",
        "# Predict\n",
        "y_pred = model.predict(X_test)\n",
        "\n",
        "# Matriz de confusão\n",
        "cf_matrix = confusion_matrix(y_test, predictions)\n",
        "# Criando o heatmap\n",
        "sns.heatmap(cf_matrix, cmap='coolwarm', annot=True, linewidth=1, fmt='d')\n",
        "plt.show()"
      ],
      "metadata": {
        "colab": {
          "base_uri": "https://localhost:8080/",
          "height": 430
        },
        "id": "FVWAJJCbdcK6",
        "outputId": "309da7d4-c820-47a5-ae61-5f4f8db4fd3a"
      },
      "execution_count": 33,
      "outputs": [
        {
          "output_type": "display_data",
          "data": {
            "text/plain": [
              "<Figure size 640x480 with 2 Axes>"
            ],
            "image/png": "[encoded data removed]"
          },
          "metadata": {}
        }
      ]
    },
    {
      "cell_type": "code",
      "source": [],
      "metadata": {
        "id": "ywEloHG9eHZG"
      },
      "execution_count": null,
      "outputs": []
    }
  ]
}